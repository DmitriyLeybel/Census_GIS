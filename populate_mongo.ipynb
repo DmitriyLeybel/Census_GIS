{
 "cells": [
  {
   "cell_type": "markdown",
   "metadata": {},
   "source": [
    "# Script to populate MongoDB database "
   ]
  },
  {
   "cell_type": "code",
   "execution_count": 221,
   "metadata": {
    "collapsed": true
   },
   "outputs": [],
   "source": [
    "import pandas as pd\n",
    "import pymongo\n",
    "from tqdm import tqdm, tqdm_notebook\n",
    "from bson.dbref import DBRef\n",
    "\n",
    "client = pymongo.MongoClient()\n",
    "db = client.locations\n",
    "coll = db.states\n",
    "coll2 = db.places"
   ]
  },
  {
   "cell_type": "markdown",
   "metadata": {},
   "source": [
    "#### Import US state names, abbreviations, fips ID, and their census division names into Pandas."
   ]
  },
  {
   "cell_type": "code",
   "execution_count": 4,
   "metadata": {
    "collapsed": false
   },
   "outputs": [
    {
     "data": {
      "text/html": [
       "<div>\n",
       "<table border=\"1\" class=\"dataframe\">\n",
       "  <thead>\n",
       "    <tr style=\"text-align: right;\">\n",
       "      <th></th>\n",
       "      <th>id</th>\n",
       "      <th>name</th>\n",
       "      <th>abbreviation</th>\n",
       "      <th>country</th>\n",
       "      <th>type</th>\n",
       "      <th>sort</th>\n",
       "      <th>status</th>\n",
       "      <th>occupied</th>\n",
       "      <th>notes</th>\n",
       "      <th>fips_state</th>\n",
       "      <th>assoc_press</th>\n",
       "      <th>standard_federal_region</th>\n",
       "      <th>census_region</th>\n",
       "      <th>census_region_name</th>\n",
       "      <th>census_division</th>\n",
       "      <th>census_division_name</th>\n",
       "      <th>circuit_court</th>\n",
       "    </tr>\n",
       "  </thead>\n",
       "  <tbody>\n",
       "    <tr>\n",
       "      <th>0</th>\n",
       "      <td>1</td>\n",
       "      <td>Alabama</td>\n",
       "      <td>AL</td>\n",
       "      <td>USA</td>\n",
       "      <td>state</td>\n",
       "      <td>10</td>\n",
       "      <td>current</td>\n",
       "      <td>occupied</td>\n",
       "      <td>NaN</td>\n",
       "      <td>1</td>\n",
       "      <td>Ala.</td>\n",
       "      <td>IV</td>\n",
       "      <td>3</td>\n",
       "      <td>South</td>\n",
       "      <td>6</td>\n",
       "      <td>East South Central</td>\n",
       "      <td>11</td>\n",
       "    </tr>\n",
       "    <tr>\n",
       "      <th>1</th>\n",
       "      <td>2</td>\n",
       "      <td>Alaska</td>\n",
       "      <td>AK</td>\n",
       "      <td>USA</td>\n",
       "      <td>state</td>\n",
       "      <td>10</td>\n",
       "      <td>current</td>\n",
       "      <td>occupied</td>\n",
       "      <td>NaN</td>\n",
       "      <td>2</td>\n",
       "      <td>Alaska</td>\n",
       "      <td>X</td>\n",
       "      <td>4</td>\n",
       "      <td>West</td>\n",
       "      <td>9</td>\n",
       "      <td>Pacific</td>\n",
       "      <td>9</td>\n",
       "    </tr>\n",
       "    <tr>\n",
       "      <th>2</th>\n",
       "      <td>3</td>\n",
       "      <td>Arizona</td>\n",
       "      <td>AZ</td>\n",
       "      <td>USA</td>\n",
       "      <td>state</td>\n",
       "      <td>10</td>\n",
       "      <td>current</td>\n",
       "      <td>occupied</td>\n",
       "      <td>NaN</td>\n",
       "      <td>4</td>\n",
       "      <td>Ariz.</td>\n",
       "      <td>IX</td>\n",
       "      <td>4</td>\n",
       "      <td>West</td>\n",
       "      <td>8</td>\n",
       "      <td>Mountain</td>\n",
       "      <td>9</td>\n",
       "    </tr>\n",
       "    <tr>\n",
       "      <th>3</th>\n",
       "      <td>4</td>\n",
       "      <td>Arkansas</td>\n",
       "      <td>AR</td>\n",
       "      <td>USA</td>\n",
       "      <td>state</td>\n",
       "      <td>10</td>\n",
       "      <td>current</td>\n",
       "      <td>occupied</td>\n",
       "      <td>NaN</td>\n",
       "      <td>5</td>\n",
       "      <td>Ark.</td>\n",
       "      <td>VI</td>\n",
       "      <td>3</td>\n",
       "      <td>South</td>\n",
       "      <td>7</td>\n",
       "      <td>West South Central</td>\n",
       "      <td>8</td>\n",
       "    </tr>\n",
       "    <tr>\n",
       "      <th>4</th>\n",
       "      <td>5</td>\n",
       "      <td>California</td>\n",
       "      <td>CA</td>\n",
       "      <td>USA</td>\n",
       "      <td>state</td>\n",
       "      <td>10</td>\n",
       "      <td>current</td>\n",
       "      <td>occupied</td>\n",
       "      <td>NaN</td>\n",
       "      <td>6</td>\n",
       "      <td>Calif.</td>\n",
       "      <td>IX</td>\n",
       "      <td>4</td>\n",
       "      <td>West</td>\n",
       "      <td>9</td>\n",
       "      <td>Pacific</td>\n",
       "      <td>9</td>\n",
       "    </tr>\n",
       "  </tbody>\n",
       "</table>\n",
       "</div>"
      ],
      "text/plain": [
       "   id        name abbreviation country   type  sort   status  occupied  notes  \\\n",
       "0   1     Alabama           AL     USA  state    10  current  occupied    NaN   \n",
       "1   2      Alaska           AK     USA  state    10  current  occupied    NaN   \n",
       "2   3     Arizona           AZ     USA  state    10  current  occupied    NaN   \n",
       "3   4    Arkansas           AR     USA  state    10  current  occupied    NaN   \n",
       "4   5  California           CA     USA  state    10  current  occupied    NaN   \n",
       "\n",
       "   fips_state assoc_press standard_federal_region  census_region  \\\n",
       "0           1        Ala.                      IV              3   \n",
       "1           2      Alaska                       X              4   \n",
       "2           4       Ariz.                      IX              4   \n",
       "3           5        Ark.                      VI              3   \n",
       "4           6      Calif.                      IX              4   \n",
       "\n",
       "  census_region_name  census_division census_division_name  circuit_court  \n",
       "0              South                6   East South Central             11  \n",
       "1               West                9              Pacific              9  \n",
       "2               West                8             Mountain              9  \n",
       "3              South                7   West South Central              8  \n",
       "4               West                9              Pacific              9  "
      ]
     },
     "execution_count": 4,
     "metadata": {},
     "output_type": "execute_result"
    }
   ],
   "source": [
    "states = pd.read_csv('data/states.csv')\n",
    "state = pd.concat([states.abbreviation, states.name, states.census_division_name, states.fips_state], axis=1)\n",
    "states.head()"
   ]
  },
  {
   "cell_type": "markdown",
   "metadata": {},
   "source": [
    "#### Insert the imported state info into a 'states' MongoDB collection "
   ]
  },
  {
   "cell_type": "code",
   "execution_count": 60,
   "metadata": {
    "collapsed": false
   },
   "outputs": [
    {
     "name": "stderr",
     "output_type": "stream",
     "text": [
      "100%|███████████████████████████████████████████████████████████████████████████████████████████████████████████████████████████████████| 50/50 [00:00<00:00, 528.61it/s]\n"
     ]
    },
    {
     "data": {
      "text/plain": [
       "{'_id': 'AL',\n",
       " 'census_division': 'East South Central',\n",
       " 'fips': 1,\n",
       " 'name': 'alabama'}"
      ]
     },
     "execution_count": 60,
     "metadata": {},
     "output_type": "execute_result"
    }
   ],
   "source": [
    "for n in tqdm(range(states.shape[0])):\n",
    "    coll.insert_one(\n",
    "            {\n",
    "                \"_id\": states.iloc[n].abbreviation,\n",
    "                \"fips\": int(states.iloc[n].fips_state),\n",
    "                \"name\": states.iloc[n]['name'].lower(),\n",
    "                \"census_division\": states.iloc[n].census_division_name\n",
    "            }\n",
    "    )\n",
    "    \n",
    "coll.find_one()"
   ]
  },
  {
   "cell_type": "markdown",
   "metadata": {},
   "source": [
    "#### Import places(census term) that reside within the US(not including Peurto Rico et al)"
   ]
  },
  {
   "cell_type": "code",
   "execution_count": 3,
   "metadata": {
    "collapsed": false
   },
   "outputs": [
    {
     "data": {
      "text/html": [
       "<div>\n",
       "<table border=\"1\" class=\"dataframe\">\n",
       "  <thead>\n",
       "    <tr style=\"text-align: right;\">\n",
       "      <th></th>\n",
       "      <th>STATE</th>\n",
       "      <th>STATEFP</th>\n",
       "      <th>PLACEFP</th>\n",
       "      <th>PLACENAME</th>\n",
       "      <th>TYPE</th>\n",
       "      <th>FUNCSTAT</th>\n",
       "      <th>COUNTY</th>\n",
       "    </tr>\n",
       "  </thead>\n",
       "  <tbody>\n",
       "    <tr>\n",
       "      <th>0</th>\n",
       "      <td>AL</td>\n",
       "      <td>1</td>\n",
       "      <td>100</td>\n",
       "      <td>Abanda CDP</td>\n",
       "      <td>Census Designated Place</td>\n",
       "      <td>S</td>\n",
       "      <td>Chambers County</td>\n",
       "    </tr>\n",
       "    <tr>\n",
       "      <th>1</th>\n",
       "      <td>AL</td>\n",
       "      <td>1</td>\n",
       "      <td>124</td>\n",
       "      <td>Abbeville city</td>\n",
       "      <td>Incorporated Place</td>\n",
       "      <td>A</td>\n",
       "      <td>Henry County</td>\n",
       "    </tr>\n",
       "    <tr>\n",
       "      <th>2</th>\n",
       "      <td>AL</td>\n",
       "      <td>1</td>\n",
       "      <td>460</td>\n",
       "      <td>Adamsville city</td>\n",
       "      <td>Incorporated Place</td>\n",
       "      <td>A</td>\n",
       "      <td>Jefferson County</td>\n",
       "    </tr>\n",
       "    <tr>\n",
       "      <th>3</th>\n",
       "      <td>AL</td>\n",
       "      <td>1</td>\n",
       "      <td>484</td>\n",
       "      <td>Addison town</td>\n",
       "      <td>Incorporated Place</td>\n",
       "      <td>A</td>\n",
       "      <td>Winston County</td>\n",
       "    </tr>\n",
       "    <tr>\n",
       "      <th>4</th>\n",
       "      <td>AL</td>\n",
       "      <td>1</td>\n",
       "      <td>676</td>\n",
       "      <td>Akron town</td>\n",
       "      <td>Incorporated Place</td>\n",
       "      <td>A</td>\n",
       "      <td>Hale County</td>\n",
       "    </tr>\n",
       "  </tbody>\n",
       "</table>\n",
       "</div>"
      ],
      "text/plain": [
       "  STATE  STATEFP  PLACEFP        PLACENAME                     TYPE FUNCSTAT  \\\n",
       "0    AL        1      100       Abanda CDP  Census Designated Place        S   \n",
       "1    AL        1      124   Abbeville city       Incorporated Place        A   \n",
       "2    AL        1      460  Adamsville city       Incorporated Place        A   \n",
       "3    AL        1      484     Addison town       Incorporated Place        A   \n",
       "4    AL        1      676       Akron town       Incorporated Place        A   \n",
       "\n",
       "             COUNTY  \n",
       "0   Chambers County  \n",
       "1      Henry County  \n",
       "2  Jefferson County  \n",
       "3    Winston County  \n",
       "4       Hale County  "
      ]
     },
     "execution_count": 3,
     "metadata": {},
     "output_type": "execute_result"
    }
   ],
   "source": [
    "places = pd.read_csv('data/states_places_counties.txt', delimiter=\"|\", encoding=\"utf8\")\n",
    "state_list = list(states.abbreviation)\n",
    "places = places[places.STATE.isin(state_list)]\n",
    "places.head()"
   ]
  },
  {
   "cell_type": "markdown",
   "metadata": {},
   "source": [
    "#### Insert places into a 'places' MongoDB collection"
   ]
  },
  {
   "cell_type": "code",
   "execution_count": 62,
   "metadata": {
    "collapsed": false
   },
   "outputs": [
    {
     "name": "stderr",
     "output_type": "stream",
     "text": [
      "100%|█████████████████████████████████████████████████████████████████████████████████████████████████████████████████████████████| 41160/41160 [01:00<00:00, 679.71it/s]\n"
     ]
    },
    {
     "data": {
      "text/plain": [
       "{'_id': ObjectId('581d15cf9e8de2482c1bc3f3'),\n",
       " 'county': 'chambers county',\n",
       " 'fips': 100,\n",
       " 'func_stat': 's',\n",
       " 'name': 'abanda cdp',\n",
       " 'state': DBRef('states', 'AL'),\n",
       " 'type': 'census designated place'}"
      ]
     },
     "execution_count": 62,
     "metadata": {},
     "output_type": "execute_result"
    }
   ],
   "source": [
    "for n in tqdm(range(places.shape[0])):\n",
    "    if places.STATE.iloc[n] in state_list:\n",
    "        coll2.insert_one(\n",
    "                {\n",
    "                    \"name\": places.iloc[n].PLACENAME.lower(),\n",
    "                    \"county\": places.iloc[n].COUNTY.lower(),\n",
    "                    \"state\": DBRef(collection=\"states\", id=str(places.iloc[n].STATE)),\n",
    "                    \"type\": places.iloc[n].TYPE.lower(),\n",
    "                    \"func_stat\": places.iloc[n].FUNCSTAT.lower(),\n",
    "                    \"fips\": int(places.iloc[n].PLACEFP)\n",
    "                }\n",
    "        )\n",
    "coll2.find_one()"
   ]
  },
  {
   "cell_type": "markdown",
   "metadata": {},
   "source": [
    "#### Import counties - their fips ID, their state's fips ID"
   ]
  },
  {
   "cell_type": "code",
   "execution_count": 4,
   "metadata": {
    "collapsed": false
   },
   "outputs": [
    {
     "data": {
      "text/html": [
       "<div>\n",
       "<table border=\"1\" class=\"dataframe\">\n",
       "  <thead>\n",
       "    <tr style=\"text-align: right;\">\n",
       "      <th></th>\n",
       "      <th>state</th>\n",
       "      <th>state_fips</th>\n",
       "      <th>county_fips</th>\n",
       "      <th>county_name</th>\n",
       "      <th>func</th>\n",
       "    </tr>\n",
       "  </thead>\n",
       "  <tbody>\n",
       "    <tr>\n",
       "      <th>0</th>\n",
       "      <td>AL</td>\n",
       "      <td>1</td>\n",
       "      <td>1</td>\n",
       "      <td>autauga county</td>\n",
       "      <td>H1</td>\n",
       "    </tr>\n",
       "    <tr>\n",
       "      <th>1</th>\n",
       "      <td>AL</td>\n",
       "      <td>1</td>\n",
       "      <td>3</td>\n",
       "      <td>baldwin county</td>\n",
       "      <td>H1</td>\n",
       "    </tr>\n",
       "    <tr>\n",
       "      <th>2</th>\n",
       "      <td>AL</td>\n",
       "      <td>1</td>\n",
       "      <td>5</td>\n",
       "      <td>barbour county</td>\n",
       "      <td>H1</td>\n",
       "    </tr>\n",
       "    <tr>\n",
       "      <th>3</th>\n",
       "      <td>AL</td>\n",
       "      <td>1</td>\n",
       "      <td>7</td>\n",
       "      <td>bibb county</td>\n",
       "      <td>H1</td>\n",
       "    </tr>\n",
       "    <tr>\n",
       "      <th>4</th>\n",
       "      <td>AL</td>\n",
       "      <td>1</td>\n",
       "      <td>9</td>\n",
       "      <td>blount county</td>\n",
       "      <td>H1</td>\n",
       "    </tr>\n",
       "  </tbody>\n",
       "</table>\n",
       "</div>"
      ],
      "text/plain": [
       "  state  state_fips  county_fips     county_name func\n",
       "0    AL           1            1  autauga county   H1\n",
       "1    AL           1            3  baldwin county   H1\n",
       "2    AL           1            5  barbour county   H1\n",
       "3    AL           1            7     bibb county   H1\n",
       "4    AL           1            9   blount county   H1"
      ]
     },
     "execution_count": 4,
     "metadata": {},
     "output_type": "execute_result"
    }
   ],
   "source": [
    "counties = pd.read_csv(\"data/county_fips.txt\")\n",
    "counties = counties[counties.state.isin(state_list)]\n",
    "counties['county_name'] = counties['county_name'].str.lower()\n",
    "county_names = list(counties.county_name)\n",
    "counties.head()"
   ]
  },
  {
   "cell_type": "markdown",
   "metadata": {},
   "source": [
    "#### Add county fips IDs to the places collection"
   ]
  },
  {
   "cell_type": "code",
   "execution_count": 64,
   "metadata": {
    "collapsed": false
   },
   "outputs": [
    {
     "name": "stderr",
     "output_type": "stream",
     "text": [
      "3142it [01:18, 40.48it/s]\n"
     ]
    },
    {
     "data": {
      "text/plain": [
       "{'_id': ObjectId('581d15cf9e8de2482c1bc3f3'),\n",
       " 'county': 'chambers county',\n",
       " 'county_fips': 71,\n",
       " 'fips': 100,\n",
       " 'func_stat': 's',\n",
       " 'name': 'abanda cdp',\n",
       " 'state': DBRef('states', 'AL'),\n",
       " 'type': 'census designated place'}"
      ]
     },
     "execution_count": 64,
     "metadata": {},
     "output_type": "execute_result"
    }
   ],
   "source": [
    "for c in tqdm(counties.iterrows()):\n",
    "    coll2.update_many({\"county\": c[1]['county_name']}, {\"$set\": {\"county_fips\": c[1]['county_fips']}})\n",
    "coll2.find_one()"
   ]
  },
  {
   "cell_type": "markdown",
   "metadata": {},
   "source": [
    "#### Import county crime rates"
   ]
  },
  {
   "cell_type": "code",
   "execution_count": 65,
   "metadata": {
    "collapsed": false
   },
   "outputs": [
    {
     "data": {
      "text/html": [
       "<div>\n",
       "<table border=\"1\" class=\"dataframe\">\n",
       "  <thead>\n",
       "    <tr style=\"text-align: right;\">\n",
       "      <th></th>\n",
       "      <th>STUDYNO</th>\n",
       "      <th>EDITION</th>\n",
       "      <th>PART</th>\n",
       "      <th>IDNO</th>\n",
       "      <th>FIPS_ST</th>\n",
       "      <th>FIPS_CTY</th>\n",
       "      <th>CPOPARST</th>\n",
       "      <th>AG_ARRST</th>\n",
       "      <th>JURFLAG</th>\n",
       "      <th>COVIND</th>\n",
       "      <th>...</th>\n",
       "      <th>OFAGFAM</th>\n",
       "      <th>DUI</th>\n",
       "      <th>LIQUOR</th>\n",
       "      <th>DRUNK</th>\n",
       "      <th>DISORDR</th>\n",
       "      <th>VAGRANT</th>\n",
       "      <th>ALLOTHR</th>\n",
       "      <th>SUSPICN</th>\n",
       "      <th>CURFEW</th>\n",
       "      <th>RUNAWAY</th>\n",
       "    </tr>\n",
       "  </thead>\n",
       "  <tbody>\n",
       "    <tr>\n",
       "      <th>0</th>\n",
       "      <td>9999</td>\n",
       "      <td>1</td>\n",
       "      <td>1</td>\n",
       "      <td>1</td>\n",
       "      <td>1</td>\n",
       "      <td>1</td>\n",
       "      <td>57217</td>\n",
       "      <td>3</td>\n",
       "      <td>1</td>\n",
       "      <td>0.0000</td>\n",
       "      <td>...</td>\n",
       "      <td>0</td>\n",
       "      <td>84</td>\n",
       "      <td>21</td>\n",
       "      <td>68</td>\n",
       "      <td>12</td>\n",
       "      <td>3</td>\n",
       "      <td>260</td>\n",
       "      <td>0</td>\n",
       "      <td>0</td>\n",
       "      <td>0</td>\n",
       "    </tr>\n",
       "    <tr>\n",
       "      <th>1</th>\n",
       "      <td>9999</td>\n",
       "      <td>1</td>\n",
       "      <td>1</td>\n",
       "      <td>2</td>\n",
       "      <td>1</td>\n",
       "      <td>3</td>\n",
       "      <td>198843</td>\n",
       "      <td>14</td>\n",
       "      <td>0</td>\n",
       "      <td>10.4765</td>\n",
       "      <td>...</td>\n",
       "      <td>5</td>\n",
       "      <td>427</td>\n",
       "      <td>87</td>\n",
       "      <td>239</td>\n",
       "      <td>36</td>\n",
       "      <td>6</td>\n",
       "      <td>2126</td>\n",
       "      <td>0</td>\n",
       "      <td>0</td>\n",
       "      <td>0</td>\n",
       "    </tr>\n",
       "    <tr>\n",
       "      <th>2</th>\n",
       "      <td>9999</td>\n",
       "      <td>1</td>\n",
       "      <td>1</td>\n",
       "      <td>3</td>\n",
       "      <td>1</td>\n",
       "      <td>5</td>\n",
       "      <td>27026</td>\n",
       "      <td>5</td>\n",
       "      <td>0</td>\n",
       "      <td>32.4354</td>\n",
       "      <td>...</td>\n",
       "      <td>0</td>\n",
       "      <td>35</td>\n",
       "      <td>9</td>\n",
       "      <td>28</td>\n",
       "      <td>6</td>\n",
       "      <td>1</td>\n",
       "      <td>110</td>\n",
       "      <td>0</td>\n",
       "      <td>0</td>\n",
       "      <td>0</td>\n",
       "    </tr>\n",
       "    <tr>\n",
       "      <th>3</th>\n",
       "      <td>9999</td>\n",
       "      <td>1</td>\n",
       "      <td>1</td>\n",
       "      <td>4</td>\n",
       "      <td>1</td>\n",
       "      <td>7</td>\n",
       "      <td>22491</td>\n",
       "      <td>4</td>\n",
       "      <td>1</td>\n",
       "      <td>27.9504</td>\n",
       "      <td>...</td>\n",
       "      <td>0</td>\n",
       "      <td>19</td>\n",
       "      <td>0</td>\n",
       "      <td>1</td>\n",
       "      <td>8</td>\n",
       "      <td>0</td>\n",
       "      <td>90</td>\n",
       "      <td>0</td>\n",
       "      <td>0</td>\n",
       "      <td>0</td>\n",
       "    </tr>\n",
       "    <tr>\n",
       "      <th>4</th>\n",
       "      <td>9999</td>\n",
       "      <td>1</td>\n",
       "      <td>1</td>\n",
       "      <td>5</td>\n",
       "      <td>1</td>\n",
       "      <td>9</td>\n",
       "      <td>58037</td>\n",
       "      <td>6</td>\n",
       "      <td>0</td>\n",
       "      <td>7.3561</td>\n",
       "      <td>...</td>\n",
       "      <td>2</td>\n",
       "      <td>52</td>\n",
       "      <td>51</td>\n",
       "      <td>23</td>\n",
       "      <td>4</td>\n",
       "      <td>0</td>\n",
       "      <td>499</td>\n",
       "      <td>0</td>\n",
       "      <td>0</td>\n",
       "      <td>0</td>\n",
       "    </tr>\n",
       "  </tbody>\n",
       "</table>\n",
       "<p>5 rows × 56 columns</p>\n",
       "</div>"
      ],
      "text/plain": [
       "   STUDYNO  EDITION  PART  IDNO  FIPS_ST  FIPS_CTY  CPOPARST  AG_ARRST  \\\n",
       "0     9999        1     1     1        1         1     57217         3   \n",
       "1     9999        1     1     2        1         3    198843        14   \n",
       "2     9999        1     1     3        1         5     27026         5   \n",
       "3     9999        1     1     4        1         7     22491         4   \n",
       "4     9999        1     1     5        1         9     58037         6   \n",
       "\n",
       "   JURFLAG   COVIND   ...     OFAGFAM  DUI  LIQUOR  DRUNK  DISORDR  VAGRANT  \\\n",
       "0        1   0.0000   ...           0   84      21     68       12        3   \n",
       "1        0  10.4765   ...           5  427      87    239       36        6   \n",
       "2        0  32.4354   ...           0   35       9     28        6        1   \n",
       "3        1  27.9504   ...           0   19       0      1        8        0   \n",
       "4        0   7.3561   ...           2   52      51     23        4        0   \n",
       "\n",
       "   ALLOTHR  SUSPICN  CURFEW  RUNAWAY  \n",
       "0      260        0       0        0  \n",
       "1     2126        0       0        0  \n",
       "2      110        0       0        0  \n",
       "3       90        0       0        0  \n",
       "4      499        0       0        0  \n",
       "\n",
       "[5 rows x 56 columns]"
      ]
     },
     "execution_count": 65,
     "metadata": {},
     "output_type": "execute_result"
    }
   ],
   "source": [
    "county_crime = pd.read_csv(\"data/county_crime.txt\",delimiter=\"\\t\")\n",
    "county_crime.head()"
   ]
  },
  {
   "cell_type": "markdown",
   "metadata": {},
   "source": [
    "#### Assign county crime rates to the places collection"
   ]
  },
  {
   "cell_type": "code",
   "execution_count": 66,
   "metadata": {
    "collapsed": false
   },
   "outputs": [
    {
     "name": "stderr",
     "output_type": "stream",
     "text": [
      "3177it [01:57, 27.15it/s]\n"
     ]
    },
    {
     "data": {
      "text/plain": [
       "{'_id': ObjectId('581d15cf9e8de2482c1bc3f3'),\n",
       " 'county': 'chambers county',\n",
       " 'county_fips': 71,\n",
       " 'crime_rate': 0.06453368965431916,\n",
       " 'fips': 100,\n",
       " 'func_stat': 's',\n",
       " 'name': 'abanda cdp',\n",
       " 'state': DBRef('states', 'AL'),\n",
       " 'type': 'census designated place'}"
      ]
     },
     "execution_count": 66,
     "metadata": {},
     "output_type": "execute_result"
    }
   ],
   "source": [
    "for county in tqdm(county_crime.iterrows()):\n",
    "    pop_served = county[1]['CPOPARST'] # 0 in certain circumstances - forrests, bridges, roads\n",
    "    if pop_served == 0: # Can't calculate rate if population served is 0\n",
    "        continue\n",
    "    st_f = county[1]['FIPS_ST']\n",
    "    ct_f = county[1]['FIPS_CTY']\n",
    "    st = coll.find_one({\"fips\": st_f}, {\"_id\": 1})\n",
    "    grnd_tot = county[1]['GRNDTOT'] # Some may have a 0 val(tread carefully)\n",
    "    coll2.update_many({\"county_fips\": ct_f},{\"$set\": {\"crime_rate\": grnd_tot/pop_served}})\n",
    "    \n",
    "coll2.find_one()"
   ]
  },
  {
   "cell_type": "markdown",
   "metadata": {},
   "source": [
    "#### Acquiring the state crime rates based on the county crime values and population groupings"
   ]
  },
  {
   "cell_type": "code",
   "execution_count": 67,
   "metadata": {
    "collapsed": false
   },
   "outputs": [
    {
     "name": "stdout",
     "output_type": "stream",
     "text": [
      "FIPS_ST\n",
      "1    76900\n",
      "2    26840\n",
      "Name: GRNDTOT, dtype: int64\n",
      "FIPS_ST\n",
      "1    4849377\n",
      "2     736732\n",
      "Name: CPOPARST, dtype: int64\n"
     ]
    }
   ],
   "source": [
    "state_crime = county_crime.groupby('FIPS_ST')['GRNDTOT'].sum()\n",
    "state_crime_pop = county_crime.groupby('FIPS_ST')['CPOPARST'].sum()\n",
    "print(state_crime.head(2))\n",
    "print(state_crime_pop.head(2))"
   ]
  },
  {
   "cell_type": "markdown",
   "metadata": {},
   "source": [
    "#### Importing the state crime rates into the state collection"
   ]
  },
  {
   "cell_type": "code",
   "execution_count": 68,
   "metadata": {
    "collapsed": false
   },
   "outputs": [
    {
     "name": "stderr",
     "output_type": "stream",
     "text": [
      "51it [00:00, 2682.35it/s]\n"
     ]
    },
    {
     "data": {
      "text/plain": [
       "{'_id': 'AL',\n",
       " 'census_division': 'East South Central',\n",
       " 'crime_rate': 0.0158577070827861,\n",
       " 'fips': 1,\n",
       " 'name': 'alabama'}"
      ]
     },
     "execution_count": 68,
     "metadata": {},
     "output_type": "execute_result"
    }
   ],
   "source": [
    "for state in tqdm(state_crime.iteritems()):\n",
    "    coll.update_one({\"fips\": int(state[0])}, {\"$set\": {\"crime_rate\": state[1]/state_crime_pop[state[0]]}})\n",
    "coll.find_one()"
   ]
  },
  {
   "cell_type": "markdown",
   "metadata": {},
   "source": [
    "#### Builds the zipcode files and the associated HPI rates"
   ]
  },
  {
   "cell_type": "code",
   "execution_count": 69,
   "metadata": {
    "collapsed": false
   },
   "outputs": [
    {
     "name": "stderr",
     "output_type": "stream",
     "text": [
      "100%|██████████████████████████████████████████████████████████████████████████████████████████████████████████████████████████████| 3224/3224 [00:02<00:00, 1598.32it/s]\n",
      "100%|███████████████████████████████████████████████████████████████████████████████████████████████████████████████████████████████| 3224/3224 [00:12<00:00, 265.86it/s]\n",
      "100%|███████████████████████████████████████████████████████████████████████████████████████████████████████████████████████████████| 2763/2763 [00:14<00:00, 191.15it/s]\n"
     ]
    }
   ],
   "source": [
    "zip_county = pd.read_csv('data/zip_county_cross.csv')\n",
    "\n",
    "zip_hpi = pd.read_csv('data/housing_HPI_zip.csv')\n",
    "zip_hpi = zip_hpi[zip_hpi['Year']==2015]\n",
    "\n",
    "county_series = zip_county['COUNTY'].unique()\n",
    "zips_in_county = []\n",
    "for c in tqdm(county_series):\n",
    "    zip_list = list(zip_county[zip_county['COUNTY'] == c]['ZIP'])\n",
    "    zips_in_county.append((c, zip_list))\n",
    "\n",
    "# Removes the counties which do not have any HPI-containing zipcodes in them\n",
    "zips_in_county = [z for z in zips_in_county if len(z[1]) != 0]\n",
    "\n",
    "# Remove entries from hpi_zips_list which have the rates set as '.'\n",
    "zip_hpi = zip_hpi[zip_hpi['Annual Change (%)'] != '.']\n",
    "\n",
    "county_rate_dict = {'county': [], 'avg_rate': [], 'state': []}\n",
    "\n",
    "# Removes zip codes not found in hpi_zips_list from zips_in_county\n",
    "hpi_zips_list = list(zip_hpi['Five-Digit ZIP Code'])\n",
    "for zc in tqdm(range(len(zips_in_county))):\n",
    "    zc1 = [zipp for zipp in zips_in_county[zc][1] if zipp in hpi_zips_list]\n",
    "    zips_in_county[zc] = (zips_in_county[zc][0],zc1)\n",
    "\n",
    "# Remove counties with no zip codes from zips_in_county\n",
    "zips_in_county = [zi for zi in zips_in_county if len(zi[1]) != 0]\n",
    "\n",
    "\n",
    "for county_zips in tqdm(zips_in_county):\n",
    "    county_rate_dict['county'].append(int(str(county_zips[0])[-3:]))\n",
    "    county_rate_dict['state'].append(int(str(county_zips[0])[0:-3]))\n",
    "    zip_vals = [float(zip_hpi[zip_hpi['Five-Digit ZIP Code'] == x]['Annual Change (%)'].iloc[0]) for x in county_zips[1]]\n",
    "    county_rate_dict['avg_rate'].append(sum(zip_vals)/len(zip_vals))\n",
    "county_rate_dict['state_abbr'] = []"
   ]
  },
  {
   "cell_type": "code",
   "execution_count": 70,
   "metadata": {
    "collapsed": false
   },
   "outputs": [
    {
     "data": {
      "text/plain": [
       "dict_keys(['county', 'state_abbr', 'avg_rate', 'state'])"
      ]
     },
     "execution_count": 70,
     "metadata": {},
     "output_type": "execute_result"
    }
   ],
   "source": [
    "county_rate_dict.keys()"
   ]
  },
  {
   "cell_type": "code",
   "execution_count": 71,
   "metadata": {
    "collapsed": true
   },
   "outputs": [],
   "source": [
    "to_del = []\n",
    "for xx in range(len(county_rate_dict['state'])):\n",
    "    if county_rate_dict['state'][xx] not in states['fips_state'].values:\n",
    "        to_del.append(xx)\n",
    "county_rate_dict['county'] = [z[1] for z in enumerate(county_rate_dict['county']) if z[0] not in to_del]\n",
    "county_rate_dict['state'] = [z[1] for z in enumerate(county_rate_dict['state']) if z[0] not in to_del]\n",
    "county_rate_dict['avg_rate'] = [z[1] for z in enumerate(county_rate_dict['avg_rate']) if z[0] not in to_del]\n",
    "\n",
    "for sti in county_rate_dict['state']:\n",
    "    stabbr = states['abbreviation']\n",
    "    abbr = stabbr[states['fips_state']==sti].iloc[0]\n",
    "    county_rate_dict['state_abbr'].append(abbr)"
   ]
  },
  {
   "cell_type": "markdown",
   "metadata": {},
   "source": [
    "#### Import the HPI county rates to their respective places in the MongoDB places collection"
   ]
  },
  {
   "cell_type": "code",
   "execution_count": 72,
   "metadata": {
    "collapsed": false
   },
   "outputs": [
    {
     "name": "stderr",
     "output_type": "stream",
     "text": [
      "0it [00:00, ?it/s]C:\\Anaconda3\\lib\\site-packages\\ipykernel\\__main__.py:4: DeprecationWarning: update is deprecated. Use replace_one, update_one or update_many instead.\n",
      "2762it [00:53, 51.92it/s]\n"
     ]
    }
   ],
   "source": [
    "for county_rate in tqdm(enumerate(county_rate_dict['county'])):\n",
    "    coll2.update({'state': DBRef('states', county_rate_dict['state_abbr'][county_rate[0]]),\n",
    "                  'county_fips': county_rate[1]},\n",
    "                 {\"$set\": {'hpi_rate': county_rate_dict['avg_rate'][county_rate[0]]}})"
   ]
  },
  {
   "cell_type": "code",
   "execution_count": 73,
   "metadata": {
    "collapsed": false
   },
   "outputs": [
    {
     "data": {
      "text/plain": [
       "{'_id': ObjectId('581d15cf9e8de2482c1bc3f3'),\n",
       " 'county': 'chambers county',\n",
       " 'county_fips': 71,\n",
       " 'crime_rate': 0.06453368965431916,\n",
       " 'fips': 100,\n",
       " 'func_stat': 's',\n",
       " 'hpi_rate': 7.052,\n",
       " 'name': 'abanda cdp',\n",
       " 'state': DBRef('states', 'AL'),\n",
       " 'type': 'census designated place'}"
      ]
     },
     "execution_count": 73,
     "metadata": {},
     "output_type": "execute_result"
    }
   ],
   "source": [
    "coll2.find_one()"
   ]
  },
  {
   "cell_type": "markdown",
   "metadata": {},
   "source": [
    "#### Import state HPI values and calculate the rates"
   ]
  },
  {
   "cell_type": "code",
   "execution_count": 74,
   "metadata": {
    "collapsed": false
   },
   "outputs": [
    {
     "name": "stderr",
     "output_type": "stream",
     "text": [
      "100%|██████████████████████████████████████████████████████████████████████████████████████████████████████████████████████████████████| 51/51 [00:00<00:00, 1413.97it/s]\n"
     ]
    },
    {
     "data": {
      "text/plain": [
       "[('AK', 0.033933518005540231),\n",
       " ('AL', 0.0310071987368759),\n",
       " ('AR', 0.025619307650915794),\n",
       " ('AZ', 0.065579932181231343),\n",
       " ('CA', 0.073942752364212896),\n",
       " ('CO', 0.11204488986190218),\n",
       " ('CT', 0.018820869003392093),\n",
       " ('DC', 0.069974057103079301),\n",
       " ('DE', 0.030671091401172534),\n",
       " ('FL', 0.097044610531876754)]"
      ]
     },
     "execution_count": 74,
     "metadata": {},
     "output_type": "execute_result"
    }
   ],
   "source": [
    "hpi_states = pd.read_csv('data/hpi_states.csv',names=['state', 'year', 'q', 'hpi'])\n",
    "hpi_states = hpi_states[(hpi_states['year']==2014) | (hpi_states['year']==2015)]\n",
    "hpi_states['hpi'] = hpi_states['hpi'].astype(float)\n",
    "g = hpi_states.groupby(['state', 'year'])\n",
    "g_hpi_states = g['hpi'].mean()\n",
    "state_hpi_rates = []\n",
    "for st in tqdm(g_hpi_states.index.levels[0]):\n",
    "    state_hpi_rates.append((st,(g_hpi_states[st][2015]-g_hpi_states[st][2014])/g_hpi_states[st][2014]))\n",
    "\n",
    "state_hpi_rates[0:10]"
   ]
  },
  {
   "cell_type": "markdown",
   "metadata": {},
   "source": [
    "#### Insert the state HPI rates into their respective states in the states collection"
   ]
  },
  {
   "cell_type": "code",
   "execution_count": 75,
   "metadata": {
    "collapsed": false
   },
   "outputs": [
    {
     "name": "stderr",
     "output_type": "stream",
     "text": [
      "100%|██████████████████████████████████████████████████████████████████████████████████████████████████████████████████████████████████| 51/51 [00:00<00:00, 2766.87it/s]\n"
     ]
    },
    {
     "data": {
      "text/plain": [
       "{'_id': 'AL',\n",
       " 'census_division': 'East South Central',\n",
       " 'crime_rate': 0.0158577070827861,\n",
       " 'fips': 1,\n",
       " 'hpi': 0.0310071987368759,\n",
       " 'name': 'alabama'}"
      ]
     },
     "execution_count": 75,
     "metadata": {},
     "output_type": "execute_result"
    }
   ],
   "source": [
    "for st in tqdm(state_hpi_rates):\n",
    "    coll.update_one({'_id': st[0]}, {\"$set\": {\"hpi\": st[1]}})\n",
    "\n",
    "coll.find_one()"
   ]
  },
  {
   "cell_type": "markdown",
   "metadata": {},
   "source": [
    "#### Imports median housing cost/month rates"
   ]
  },
  {
   "cell_type": "code",
   "execution_count": 76,
   "metadata": {
    "collapsed": false
   },
   "outputs": [
    {
     "data": {
      "text/html": [
       "<div>\n",
       "<table border=\"1\" class=\"dataframe\">\n",
       "  <thead>\n",
       "    <tr style=\"text-align: right;\">\n",
       "      <th></th>\n",
       "      <th>GEO.id</th>\n",
       "      <th>GEO.id2</th>\n",
       "      <th>GEO.display-label</th>\n",
       "      <th>HD01_VD01</th>\n",
       "      <th>HD02_VD01</th>\n",
       "    </tr>\n",
       "  </thead>\n",
       "  <tbody>\n",
       "    <tr>\n",
       "      <th>1</th>\n",
       "      <td>1600000US0100100</td>\n",
       "      <td>0100100</td>\n",
       "      <td>Abanda CDP, Alabama</td>\n",
       "      <td>-</td>\n",
       "      <td>**</td>\n",
       "    </tr>\n",
       "    <tr>\n",
       "      <th>2</th>\n",
       "      <td>1600000US0100124</td>\n",
       "      <td>0100124</td>\n",
       "      <td>Abbeville city, Alabama</td>\n",
       "      <td>542</td>\n",
       "      <td>66</td>\n",
       "    </tr>\n",
       "    <tr>\n",
       "      <th>3</th>\n",
       "      <td>1600000US0100460</td>\n",
       "      <td>0100460</td>\n",
       "      <td>Adamsville city, Alabama</td>\n",
       "      <td>777</td>\n",
       "      <td>130</td>\n",
       "    </tr>\n",
       "    <tr>\n",
       "      <th>4</th>\n",
       "      <td>1600000US0100484</td>\n",
       "      <td>0100484</td>\n",
       "      <td>Addison town, Alabama</td>\n",
       "      <td>413</td>\n",
       "      <td>83</td>\n",
       "    </tr>\n",
       "    <tr>\n",
       "      <th>5</th>\n",
       "      <td>1600000US0100676</td>\n",
       "      <td>0100676</td>\n",
       "      <td>Akron town, Alabama</td>\n",
       "      <td>605</td>\n",
       "      <td>204</td>\n",
       "    </tr>\n",
       "  </tbody>\n",
       "</table>\n",
       "</div>"
      ],
      "text/plain": [
       "             GEO.id  GEO.id2         GEO.display-label HD01_VD01 HD02_VD01\n",
       "1  1600000US0100100  0100100       Abanda CDP, Alabama         -        **\n",
       "2  1600000US0100124  0100124   Abbeville city, Alabama       542        66\n",
       "3  1600000US0100460  0100460  Adamsville city, Alabama       777       130\n",
       "4  1600000US0100484  0100484     Addison town, Alabama       413        83\n",
       "5  1600000US0100676  0100676       Akron town, Alabama       605       204"
      ]
     },
     "execution_count": 76,
     "metadata": {},
     "output_type": "execute_result"
    }
   ],
   "source": [
    "med_housing = pd.read_csv('data/acs_median_housing.csv', encoding=\"latin-1\")\n",
    "med_housing.drop(0, inplace=True)\n",
    "\n",
    "med_housing.head()"
   ]
  },
  {
   "cell_type": "markdown",
   "metadata": {},
   "source": [
    "#### Provides a list of states and their fips IDs"
   ]
  },
  {
   "cell_type": "code",
   "execution_count": 77,
   "metadata": {
    "collapsed": false
   },
   "outputs": [],
   "source": [
    "state_fips_tup_list = [(st[1]['fips_state'],st[1]['abbreviation']) for st in states.iterrows()]\n",
    "state_fips_dict = dict(state_fips_tup_list)"
   ]
  },
  {
   "cell_type": "markdown",
   "metadata": {},
   "source": [
    "#### Adds the median montly housing costs to the places collection"
   ]
  },
  {
   "cell_type": "code",
   "execution_count": 78,
   "metadata": {
    "collapsed": false
   },
   "outputs": [
    {
     "name": "stderr",
     "output_type": "stream",
     "text": [
      "29296it [12:56, 37.75it/s]\n"
     ]
    },
    {
     "data": {
      "text/plain": [
       "{'_id': ObjectId('581d15cf9e8de2482c1bc3f3'),\n",
       " 'county': 'chambers county',\n",
       " 'county_fips': 71,\n",
       " 'crime_rate': 0.06453368965431916,\n",
       " 'fips': 100,\n",
       " 'func_stat': 's',\n",
       " 'hpi_rate': 7.052,\n",
       " 'name': 'abanda cdp',\n",
       " 'state': DBRef('states', 'AL'),\n",
       " 'type': 'census designated place'}"
      ]
     },
     "execution_count": 78,
     "metadata": {},
     "output_type": "execute_result"
    }
   ],
   "source": [
    "dindex = 0\n",
    "for mh in tqdm(med_housing.iterrows()):\n",
    "    try:\n",
    "        mon_cost = int(mh[1]['HD01_VD01'])\n",
    "    except ValueError:\n",
    "        continue\n",
    "        \n",
    "    geoid = mh[1]['GEO.id2']\n",
    "    place_id = int(geoid[2:])\n",
    "    state_id = int(geoid[0:2])\n",
    "    if state_id in state_fips_dict.keys():\n",
    "        try:\n",
    "            st_abbr = state_fips_dict[state_id]\n",
    "        except:\n",
    "            print(state_id, place_id, geoid)\n",
    "            raise\n",
    "        coll2.update_many({'state': DBRef('states', st_abbr), 'fips': place_id}, {'$set': {'median_housing_costs': mh[1]['HD01_VD01']}})\n",
    "        \n",
    "coll2.find_one()"
   ]
  },
  {
   "cell_type": "markdown",
   "metadata": {},
   "source": [
    "#### Import state median housing costs"
   ]
  },
  {
   "cell_type": "code",
   "execution_count": 90,
   "metadata": {
    "collapsed": false
   },
   "outputs": [
    {
     "data": {
      "text/html": [
       "<div>\n",
       "<table border=\"1\" class=\"dataframe\">\n",
       "  <thead>\n",
       "    <tr style=\"text-align: right;\">\n",
       "      <th></th>\n",
       "      <th>GEO.id</th>\n",
       "      <th>GEO.id2</th>\n",
       "      <th>GEO.display-label</th>\n",
       "      <th>HD01_VD01</th>\n",
       "      <th>HD02_VD01</th>\n",
       "    </tr>\n",
       "  </thead>\n",
       "  <tbody>\n",
       "    <tr>\n",
       "      <th>0</th>\n",
       "      <td>0400000US01</td>\n",
       "      <td>1</td>\n",
       "      <td>Alabama</td>\n",
       "      <td>745</td>\n",
       "      <td>3</td>\n",
       "    </tr>\n",
       "    <tr>\n",
       "      <th>1</th>\n",
       "      <td>0400000US02</td>\n",
       "      <td>2</td>\n",
       "      <td>Alaska</td>\n",
       "      <td>1248</td>\n",
       "      <td>12</td>\n",
       "    </tr>\n",
       "    <tr>\n",
       "      <th>2</th>\n",
       "      <td>0400000US04</td>\n",
       "      <td>4</td>\n",
       "      <td>Arizona</td>\n",
       "      <td>967</td>\n",
       "      <td>4</td>\n",
       "    </tr>\n",
       "    <tr>\n",
       "      <th>3</th>\n",
       "      <td>0400000US05</td>\n",
       "      <td>5</td>\n",
       "      <td>Arkansas</td>\n",
       "      <td>678</td>\n",
       "      <td>3</td>\n",
       "    </tr>\n",
       "    <tr>\n",
       "      <th>4</th>\n",
       "      <td>0400000US06</td>\n",
       "      <td>6</td>\n",
       "      <td>California</td>\n",
       "      <td>1427</td>\n",
       "      <td>2</td>\n",
       "    </tr>\n",
       "  </tbody>\n",
       "</table>\n",
       "</div>"
      ],
      "text/plain": [
       "        GEO.id  GEO.id2 GEO.display-label  HD01_VD01  HD02_VD01\n",
       "0  0400000US01        1           Alabama        745          3\n",
       "1  0400000US02        2            Alaska       1248         12\n",
       "2  0400000US04        4           Arizona        967          4\n",
       "3  0400000US05        5          Arkansas        678          3\n",
       "4  0400000US06        6        California       1427          2"
      ]
     },
     "execution_count": 90,
     "metadata": {},
     "output_type": "execute_result"
    }
   ],
   "source": [
    "med_housing_st = pd.read_csv('data/acs_median_housing_states.csv')\n",
    "med_housing_st.head()"
   ]
  },
  {
   "cell_type": "markdown",
   "metadata": {},
   "source": [
    "#### Insert the median housing cost into the state collection"
   ]
  },
  {
   "cell_type": "code",
   "execution_count": 96,
   "metadata": {
    "collapsed": false
   },
   "outputs": [
    {
     "name": "stderr",
     "output_type": "stream",
     "text": [
      "51it [00:00, 1544.65it/s]\n"
     ]
    },
    {
     "data": {
      "text/plain": [
       "{'_id': 'AL',\n",
       " 'census_division': 'East South Central',\n",
       " 'crime_rate': 0.0158577070827861,\n",
       " 'fips': 1,\n",
       " 'hpi': 0.0310071987368759,\n",
       " 'median_housing_costs': 745,\n",
       " 'name': 'alabama'}"
      ]
     },
     "execution_count": 96,
     "metadata": {},
     "output_type": "execute_result"
    }
   ],
   "source": [
    "for housing_cost in tqdm(med_housing_st.iterrows()):\n",
    "    coll.update_one({'fips': housing_cost[1]['GEO.id2']}, {'$set': {'median_housing_costs': housing_cost[1]['HD01_VD01']}})\n",
    "\n",
    "coll.find_one()"
   ]
  },
  {
   "cell_type": "markdown",
   "metadata": {},
   "source": [
    "#### Import places education data and metadata"
   ]
  },
  {
   "cell_type": "code",
   "execution_count": 74,
   "metadata": {
    "collapsed": false,
    "scrolled": false
   },
   "outputs": [
    {
     "name": "stderr",
     "output_type": "stream",
     "text": [
      "C:\\Anaconda3\\lib\\site-packages\\IPython\\core\\interactiveshell.py:2717: DtypeWarning: Columns (4) have mixed types. Specify dtype option on import or set low_memory=False.\n",
      "  interactivity=interactivity, compiler=compiler, result=result)\n"
     ]
    },
    {
     "name": "stdout",
     "output_type": "stream",
     "text": [
      "             GEO.id GEO.id2         GEO.display-label  HD01_VD01  HD02_VD01  \\\n",
      "0  1600000US0100100  100100       Abanda CDP, Alabama         43       51.0   \n",
      "1  1600000US0100124  100124   Abbeville city, Alabama       1947      110.0   \n",
      "2  1600000US0100460  100460  Adamsville city, Alabama       3243      249.0   \n",
      "3  1600000US0100484  100484     Addison town, Alabama        683      203.0   \n",
      "4  1600000US0100676  100676       Akron town, Alabama        201       54.0   \n",
      "\n",
      "   HD01_VD02  HD02_VD02  HD01_VD03  HD02_VD03  HD01_VD04    ...      \\\n",
      "0          0         11          0         11          0    ...       \n",
      "1         41         28          0         11          0    ...       \n",
      "2         27         25          0         11          0    ...       \n",
      "3          7          8          0         11          0    ...       \n",
      "4          3          4          0         11          0    ...       \n",
      "\n",
      "   HD01_VD21  HD02_VD21  HD01_VD22  HD02_VD22  HD01_VD23  HD02_VD23  \\\n",
      "0          0         11          0         11          0         11   \n",
      "1        142         72        162         69        112         43   \n",
      "2        145         65        336        124        148         74   \n",
      "3         23         21         60         38         49         34   \n",
      "4         24         20          1          3         16         21   \n",
      "\n",
      "   HD01_VD24  HD02_VD24  HD01_VD25  HD02_VD25  \n",
      "0          0         11          0         11  \n",
      "1          9         13          4          7  \n",
      "2          8         13          7         11  \n",
      "3          5          5          0         11  \n",
      "4          0         11          0         11  \n",
      "\n",
      "[5 rows x 53 columns]\n",
      "                    0                                                  1\n",
      "0              GEO.id                                                 Id\n",
      "1             GEO.id2                                                Id2\n",
      "2   GEO.display-label                                          Geography\n",
      "3           HD01_VD01                                   Estimate; Total:\n",
      "4           HD02_VD01                            Margin of Error; Total:\n",
      "5           HD01_VD02          Estimate; Total: - No schooling completed\n",
      "6           HD02_VD02   Margin of Error; Total: - No schooling completed\n",
      "7           HD01_VD03                  Estimate; Total: - Nursery school\n",
      "8           HD02_VD03           Margin of Error; Total: - Nursery school\n",
      "9           HD01_VD04                    Estimate; Total: - Kindergarten\n",
      "10          HD02_VD04             Margin of Error; Total: - Kindergarten\n",
      "11          HD01_VD05                       Estimate; Total: - 1st grade\n",
      "12          HD02_VD05                Margin of Error; Total: - 1st grade\n",
      "13          HD01_VD06                       Estimate; Total: - 2nd grade\n",
      "14          HD02_VD06                Margin of Error; Total: - 2nd grade\n",
      "15          HD01_VD07                       Estimate; Total: - 3rd grade\n",
      "16          HD02_VD07                Margin of Error; Total: - 3rd grade\n",
      "17          HD01_VD08                       Estimate; Total: - 4th grade\n",
      "18          HD02_VD08                Margin of Error; Total: - 4th grade\n",
      "19          HD01_VD09                       Estimate; Total: - 5th grade\n",
      "20          HD02_VD09                Margin of Error; Total: - 5th grade\n",
      "21          HD01_VD10                       Estimate; Total: - 6th grade\n",
      "22          HD02_VD10                Margin of Error; Total: - 6th grade\n",
      "23          HD01_VD11                       Estimate; Total: - 7th grade\n",
      "24          HD02_VD11                Margin of Error; Total: - 7th grade\n",
      "25          HD01_VD12                       Estimate; Total: - 8th grade\n",
      "26          HD02_VD12                Margin of Error; Total: - 8th grade\n",
      "27          HD01_VD13                       Estimate; Total: - 9th grade\n",
      "28          HD02_VD13                Margin of Error; Total: - 9th grade\n",
      "29          HD01_VD14                      Estimate; Total: - 10th grade\n",
      "30          HD02_VD14               Margin of Error; Total: - 10th grade\n",
      "31          HD01_VD15                      Estimate; Total: - 11th grade\n",
      "32          HD02_VD15               Margin of Error; Total: - 11th grade\n",
      "33          HD01_VD16          Estimate; Total: - 12th grade, no diploma\n",
      "34          HD02_VD16   Margin of Error; Total: - 12th grade, no diploma\n",
      "35          HD01_VD17     Estimate; Total: - Regular high school diploma\n",
      "36          HD02_VD17  Margin of Error; Total: - Regular high school ...\n",
      "37          HD01_VD18   Estimate; Total: - GED or alternative credential\n",
      "38          HD02_VD18  Margin of Error; Total: - GED or alternative c...\n",
      "39          HD01_VD19  Estimate; Total: - Some college, less than 1 year\n",
      "40          HD02_VD19  Margin of Error; Total: - Some college, less t...\n",
      "41          HD01_VD20  Estimate; Total: - Some college, 1 or more yea...\n",
      "42          HD02_VD20  Margin of Error; Total: - Some college, 1 or m...\n",
      "43          HD01_VD21              Estimate; Total: - Associate's degree\n",
      "44          HD02_VD21       Margin of Error; Total: - Associate's degree\n",
      "45          HD01_VD22               Estimate; Total: - Bachelor's degree\n",
      "46          HD02_VD22        Margin of Error; Total: - Bachelor's degree\n",
      "47          HD01_VD23                 Estimate; Total: - Master's degree\n",
      "48          HD02_VD23          Margin of Error; Total: - Master's degree\n",
      "49          HD01_VD24      Estimate; Total: - Professional school degree\n",
      "50          HD02_VD24  Margin of Error; Total: - Professional school ...\n",
      "51          HD01_VD25                Estimate; Total: - Doctorate degree\n",
      "52          HD02_VD25         Margin of Error; Total: - Doctorate degree\n"
     ]
    }
   ],
   "source": [
    "ed_places = pd.read_csv('data/places_education.csv', encoding='latin-1')\n",
    "ed_places['HD02_VD01'] = pd.to_numeric(ed_places['HD02_VD01'], errors='coerce')\n",
    "ed_places['GEO.id2'] = ed_places['GEO.id2'].astype(str)\n",
    "print(ed_places.head())\n",
    "\n",
    "ed_places_meta = pd.read_csv('data/places_education_meta.csv', names = [0,1])\n",
    "print(ed_places_meta)"
   ]
  },
  {
   "cell_type": "code",
   "execution_count": 75,
   "metadata": {
    "collapsed": false
   },
   "outputs": [],
   "source": [
    "# Returns the education data label based on the index value\n",
    "def n2v(n):\n",
    "    return ed_places_meta[0].iloc[n]"
   ]
  },
  {
   "cell_type": "markdown",
   "metadata": {},
   "source": [
    "#### Codify the different education levels"
   ]
  },
  {
   "cell_type": "code",
   "execution_count": 76,
   "metadata": {
    "collapsed": false
   },
   "outputs": [],
   "source": [
    "# From no education to a 12th grade education classified as '0'\n",
    "ed_places[0] = 0\n",
    "for n in [5, 7, 9, 11, 13, 15, 17, 19, 21, 23, 25, 27, 29, 31, 33]:\n",
    "    ed_places[0] = ed_places[0] + ed_places[n2v(n)]\n",
    "\n",
    "# High School or high school equivalent and less than one year of college classified as '1' \n",
    "ed_places[1] = 0\n",
    "for n in [35, 37, 39]:\n",
    "    ed_places[1] = ed_places[1] + ed_places[n2v(n)]\n",
    "\n",
    "# College educated(bachelor's, associates's, or one+ years of college) will be classified as '2'\n",
    "ed_places[2] = 0\n",
    "for n in [41, 43, 45]:\n",
    "    ed_places[2] = ed_places[2] + ed_places[n2v(n)]\n",
    "\n",
    "# Professional school and Masters educations will be classified as '3'\n",
    "ed_places[3] = 0\n",
    "for n in [47, 49]:\n",
    "    ed_places[3] = ed_places[3] + ed_places[n2v(n)]\n",
    "    \n",
    "# Doctorate degree will be classified as '4'\n",
    "ed_places[4] = 0\n",
    "for n in [51]:\n",
    "    ed_places[4] = ed_places[4] + ed_places[n2v(n)]"
   ]
  },
  {
   "cell_type": "code",
   "execution_count": 93,
   "metadata": {
    "collapsed": false
   },
   "outputs": [],
   "source": [
    "for n in range(5):\n",
    "    ed_places[n] = ed_places[n]/ed_places[n2v(3)]"
   ]
  },
  {
   "cell_type": "markdown",
   "metadata": {},
   "source": [
    "#### Insert the education rates of the places into an embedded document within the places of the places collection"
   ]
  },
  {
   "cell_type": "code",
   "execution_count": 210,
   "metadata": {
    "collapsed": false,
    "scrolled": true
   },
   "outputs": [
    {
     "name": "stderr",
     "output_type": "stream",
     "text": [
      "29296it [12:51, 37.97it/s]\n"
     ]
    }
   ],
   "source": [
    "errlog = []\n",
    "for pl in tqdm(ed_places.iterrows()):\n",
    "    if ed_places[n2v(3)] == 0:\n",
    "        continue\n",
    "    geoid = pl[1]['GEO.id2']\n",
    "    st_id = int(geoid[0:-5])\n",
    "    if st_id in state_fips_dict.keys():\n",
    "        st_abbr = state_fips_dict[st_id]\n",
    "        pl_id = int(geoid[-5:])\n",
    "        coll2.update_many({'state': DBRef('states', st_abbr), 'fips': pl_id}, {'$set': {'ed_level': {'1': pl[1][1],\n",
    "                                                                                                    '2': pl[1][2],\n",
    "                                                                                                    '3': pl[1][3],\n",
    "                                                                                                    '4': pl[1][4],\n",
    "                                                                                                    '0': pl[1][0]}}})"
   ]
  },
  {
   "cell_type": "code",
   "execution_count": 214,
   "metadata": {
    "collapsed": false
   },
   "outputs": [
    {
     "data": {
      "text/plain": [
       "{'_id': ObjectId('581d15cf9e8de2482c1bc3f3'),\n",
       " 'county': 'chambers county',\n",
       " 'county_fips': 71,\n",
       " 'crime_rate': 0.06453368965431916,\n",
       " 'ed_level': {'0': 0.7209302325581395,\n",
       "  '1': 0.27906976744186046,\n",
       "  '2': 0.0,\n",
       "  '3': 0.0,\n",
       "  '4': 0.0},\n",
       " 'fips': 100,\n",
       " 'func_stat': 's',\n",
       " 'hpi_rate': 7.052,\n",
       " 'name': 'abanda cdp',\n",
       " 'state': DBRef('states', 'AL'),\n",
       " 'type': 'census designated place'}"
      ]
     },
     "execution_count": 214,
     "metadata": {},
     "output_type": "execute_result"
    }
   ],
   "source": [
    "coll2.find_one()"
   ]
  },
  {
   "cell_type": "markdown",
   "metadata": {},
   "source": [
    "#### Build state education rates out of imported places amounts"
   ]
  },
  {
   "cell_type": "code",
   "execution_count": 73,
   "metadata": {
    "collapsed": false
   },
   "outputs": [
    {
     "ename": "NameError",
     "evalue": "name 'ed_places' is not defined",
     "output_type": "error",
     "traceback": [
      "\u001b[0;31m---------------------------------------------------------------------------\u001b[0m",
      "\u001b[0;31mNameError\u001b[0m                                 Traceback (most recent call last)",
      "\u001b[0;32m<ipython-input-73-c86d62723516>\u001b[0m in \u001b[0;36m<module>\u001b[0;34m()\u001b[0m\n\u001b[1;32m      1\u001b[0m \u001b[1;31m# Adds a state id column derived from the GEO.id2 for grouping purposes\u001b[0m\u001b[1;33m\u001b[0m\u001b[1;33m\u001b[0m\u001b[0m\n\u001b[0;32m----> 2\u001b[0;31m \u001b[0mst_id\u001b[0m \u001b[1;33m=\u001b[0m \u001b[0med_places\u001b[0m\u001b[1;33m[\u001b[0m\u001b[1;34m'GEO.id2'\u001b[0m\u001b[1;33m]\u001b[0m\u001b[1;33m.\u001b[0m\u001b[0mapply\u001b[0m\u001b[1;33m(\u001b[0m\u001b[1;32mlambda\u001b[0m \u001b[0mx\u001b[0m\u001b[1;33m:\u001b[0m \u001b[0mx\u001b[0m\u001b[1;33m[\u001b[0m\u001b[1;33m:\u001b[0m\u001b[1;33m-\u001b[0m\u001b[1;36m5\u001b[0m\u001b[1;33m]\u001b[0m\u001b[1;33m)\u001b[0m\u001b[1;33m\u001b[0m\u001b[0m\n\u001b[0m\u001b[1;32m      3\u001b[0m \u001b[0med_places\u001b[0m\u001b[1;33m[\u001b[0m\u001b[1;34m'st_id'\u001b[0m\u001b[1;33m]\u001b[0m \u001b[1;33m=\u001b[0m \u001b[0mst_id\u001b[0m\u001b[1;33m\u001b[0m\u001b[0m\n\u001b[1;32m      4\u001b[0m \u001b[0med_places\u001b[0m\u001b[1;33m[\u001b[0m\u001b[1;34m'st_id'\u001b[0m\u001b[1;33m]\u001b[0m\u001b[1;33m.\u001b[0m\u001b[0mhead\u001b[0m\u001b[1;33m(\u001b[0m\u001b[1;33m)\u001b[0m\u001b[1;33m\u001b[0m\u001b[0m\n",
      "\u001b[0;31mNameError\u001b[0m: name 'ed_places' is not defined"
     ]
    }
   ],
   "source": [
    "# Adds a state id column derived from the GEO.id2 for grouping purposes\n",
    "st_id = ed_places['GEO.id2'].apply(lambda x: x[:-5])\n",
    "ed_places['st_id'] = st_id\n",
    "ed_places['st_id'].head()"
   ]
  },
  {
   "cell_type": "code",
   "execution_count": 223,
   "metadata": {
    "collapsed": false
   },
   "outputs": [
    {
     "data": {
      "text/html": [
       "<div>\n",
       "<table border=\"1\" class=\"dataframe\">\n",
       "  <thead>\n",
       "    <tr style=\"text-align: right;\">\n",
       "      <th></th>\n",
       "      <th>HD01_VD01</th>\n",
       "      <th>HD02_VD01</th>\n",
       "      <th>HD01_VD02</th>\n",
       "      <th>HD02_VD02</th>\n",
       "      <th>HD01_VD03</th>\n",
       "      <th>HD02_VD03</th>\n",
       "      <th>HD01_VD04</th>\n",
       "      <th>HD02_VD04</th>\n",
       "      <th>HD01_VD05</th>\n",
       "      <th>HD02_VD05</th>\n",
       "      <th>...</th>\n",
       "      <th>HD02_VD23</th>\n",
       "      <th>HD01_VD24</th>\n",
       "      <th>HD02_VD24</th>\n",
       "      <th>HD01_VD25</th>\n",
       "      <th>HD02_VD25</th>\n",
       "      <th>0</th>\n",
       "      <th>1</th>\n",
       "      <th>2</th>\n",
       "      <th>3</th>\n",
       "      <th>4</th>\n",
       "    </tr>\n",
       "    <tr>\n",
       "      <th>st_id</th>\n",
       "      <th></th>\n",
       "      <th></th>\n",
       "      <th></th>\n",
       "      <th></th>\n",
       "      <th></th>\n",
       "      <th></th>\n",
       "      <th></th>\n",
       "      <th></th>\n",
       "      <th></th>\n",
       "      <th></th>\n",
       "      <th></th>\n",
       "      <th></th>\n",
       "      <th></th>\n",
       "      <th></th>\n",
       "      <th></th>\n",
       "      <th></th>\n",
       "      <th></th>\n",
       "      <th></th>\n",
       "      <th></th>\n",
       "      <th></th>\n",
       "      <th></th>\n",
       "    </tr>\n",
       "  </thead>\n",
       "  <tbody>\n",
       "    <tr>\n",
       "      <th>1</th>\n",
       "      <td>2068193</td>\n",
       "      <td>108285.0</td>\n",
       "      <td>25404</td>\n",
       "      <td>16116</td>\n",
       "      <td>138</td>\n",
       "      <td>7211</td>\n",
       "      <td>234</td>\n",
       "      <td>7204</td>\n",
       "      <td>903</td>\n",
       "      <td>7560</td>\n",
       "      <td>...</td>\n",
       "      <td>31911</td>\n",
       "      <td>37766</td>\n",
       "      <td>15966</td>\n",
       "      <td>25668</td>\n",
       "      <td>13546</td>\n",
       "      <td>116.235729</td>\n",
       "      <td>240.629223</td>\n",
       "      <td>188.712132</td>\n",
       "      <td>29.532942</td>\n",
       "      <td>2.889973</td>\n",
       "    </tr>\n",
       "    <tr>\n",
       "      <th>10</th>\n",
       "      <td>256969</td>\n",
       "      <td>17578.0</td>\n",
       "      <td>3145</td>\n",
       "      <td>2397</td>\n",
       "      <td>29</td>\n",
       "      <td>988</td>\n",
       "      <td>58</td>\n",
       "      <td>942</td>\n",
       "      <td>114</td>\n",
       "      <td>1055</td>\n",
       "      <td>...</td>\n",
       "      <td>5885</td>\n",
       "      <td>5066</td>\n",
       "      <td>2538</td>\n",
       "      <td>5169</td>\n",
       "      <td>2434</td>\n",
       "      <td>9.195610</td>\n",
       "      <td>29.197507</td>\n",
       "      <td>29.484819</td>\n",
       "      <td>7.892781</td>\n",
       "      <td>1.229283</td>\n",
       "    </tr>\n",
       "    <tr>\n",
       "      <th>11</th>\n",
       "      <td>442721</td>\n",
       "      <td>87.0</td>\n",
       "      <td>4996</td>\n",
       "      <td>596</td>\n",
       "      <td>39</td>\n",
       "      <td>37</td>\n",
       "      <td>71</td>\n",
       "      <td>75</td>\n",
       "      <td>250</td>\n",
       "      <td>118</td>\n",
       "      <td>...</td>\n",
       "      <td>1836</td>\n",
       "      <td>37053</td>\n",
       "      <td>1419</td>\n",
       "      <td>17109</td>\n",
       "      <td>967</td>\n",
       "      <td>0.110903</td>\n",
       "      <td>0.219820</td>\n",
       "      <td>0.368422</td>\n",
       "      <td>0.262210</td>\n",
       "      <td>0.038645</td>\n",
       "    </tr>\n",
       "    <tr>\n",
       "      <th>12</th>\n",
       "      <td>10274116</td>\n",
       "      <td>397005.0</td>\n",
       "      <td>148390</td>\n",
       "      <td>63884</td>\n",
       "      <td>2313</td>\n",
       "      <td>17163</td>\n",
       "      <td>1770</td>\n",
       "      <td>17071</td>\n",
       "      <td>7279</td>\n",
       "      <td>19957</td>\n",
       "      <td>...</td>\n",
       "      <td>127875</td>\n",
       "      <td>209386</td>\n",
       "      <td>66279</td>\n",
       "      <td>113454</td>\n",
       "      <td>49977</td>\n",
       "      <td>135.872025</td>\n",
       "      <td>350.076917</td>\n",
       "      <td>349.992879</td>\n",
       "      <td>70.708044</td>\n",
       "      <td>9.350135</td>\n",
       "    </tr>\n",
       "    <tr>\n",
       "      <th>13</th>\n",
       "      <td>3013654</td>\n",
       "      <td>142189.0</td>\n",
       "      <td>40336</td>\n",
       "      <td>24344</td>\n",
       "      <td>398</td>\n",
       "      <td>9472</td>\n",
       "      <td>626</td>\n",
       "      <td>9465</td>\n",
       "      <td>2081</td>\n",
       "      <td>10476</td>\n",
       "      <td>...</td>\n",
       "      <td>47690</td>\n",
       "      <td>69822</td>\n",
       "      <td>23919</td>\n",
       "      <td>43130</td>\n",
       "      <td>19786</td>\n",
       "      <td>135.060682</td>\n",
       "      <td>253.193386</td>\n",
       "      <td>195.203988</td>\n",
       "      <td>36.046461</td>\n",
       "      <td>4.495482</td>\n",
       "    </tr>\n",
       "  </tbody>\n",
       "</table>\n",
       "<p>5 rows × 55 columns</p>\n",
       "</div>"
      ],
      "text/plain": [
       "       HD01_VD01  HD02_VD01  HD01_VD02  HD02_VD02  HD01_VD03  HD02_VD03  \\\n",
       "st_id                                                                     \n",
       "1        2068193   108285.0      25404      16116        138       7211   \n",
       "10        256969    17578.0       3145       2397         29        988   \n",
       "11        442721       87.0       4996        596         39         37   \n",
       "12      10274116   397005.0     148390      63884       2313      17163   \n",
       "13       3013654   142189.0      40336      24344        398       9472   \n",
       "\n",
       "       HD01_VD04  HD02_VD04  HD01_VD05  HD02_VD05    ...     HD02_VD23  \\\n",
       "st_id                                                ...                 \n",
       "1            234       7204        903       7560    ...         31911   \n",
       "10            58        942        114       1055    ...          5885   \n",
       "11            71         75        250        118    ...          1836   \n",
       "12          1770      17071       7279      19957    ...        127875   \n",
       "13           626       9465       2081      10476    ...         47690   \n",
       "\n",
       "       HD01_VD24  HD02_VD24  HD01_VD25  HD02_VD25           0           1  \\\n",
       "st_id                                                                       \n",
       "1          37766      15966      25668      13546  116.235729  240.629223   \n",
       "10          5066       2538       5169       2434    9.195610   29.197507   \n",
       "11         37053       1419      17109        967    0.110903    0.219820   \n",
       "12        209386      66279     113454      49977  135.872025  350.076917   \n",
       "13         69822      23919      43130      19786  135.060682  253.193386   \n",
       "\n",
       "                2          3         4  \n",
       "st_id                                   \n",
       "1      188.712132  29.532942  2.889973  \n",
       "10      29.484819   7.892781  1.229283  \n",
       "11       0.368422   0.262210  0.038645  \n",
       "12     349.992879  70.708044  9.350135  \n",
       "13     195.203988  36.046461  4.495482  \n",
       "\n",
       "[5 rows x 55 columns]"
      ]
     },
     "execution_count": 223,
     "metadata": {},
     "output_type": "execute_result"
    }
   ],
   "source": [
    "# Groups the values by state and sums up their values\n",
    "ed_st = ed_places.groupby('st_id').sum()\n",
    "ed_st.head()"
   ]
  },
  {
   "cell_type": "markdown",
   "metadata": {},
   "source": [
    "#### Codify state educational levels, similar to those of the places educational levels above"
   ]
  },
  {
   "cell_type": "code",
   "execution_count": 225,
   "metadata": {
    "collapsed": false
   },
   "outputs": [],
   "source": [
    "# From no education to a 12th grade education classified as '0'\n",
    "ed_st[0] = 0\n",
    "for n in [5, 7, 9, 11, 13, 15, 17, 19, 21, 23, 25, 27, 29, 31, 33]:\n",
    "    ed_st[0] = ed_st[0] + ed_st[n2v(n)]\n",
    "\n",
    "# High School or high school equivalent and less than one year of college classified as '1' \n",
    "ed_st[1] = 0\n",
    "for n in [35, 37, 39]:\n",
    "    ed_st[1] = ed_st[1] + ed_st[n2v(n)]\n",
    "\n",
    "# College educated(bachelor's, associates's, or one+ years of college) will be classified as '2'\n",
    "ed_st[2] = 0\n",
    "for n in [41, 43, 45]:\n",
    "    ed_st[2] = ed_st[2] + ed_st[n2v(n)]\n",
    "\n",
    "# Professional school and Masters educations will be classified as '3'\n",
    "ed_st[3] = 0\n",
    "for n in [47, 49]:\n",
    "    ed_st[3] = ed_st[3] + ed_st[n2v(n)]\n",
    "    \n",
    "# Doctorate degree will be classified as '4'\n",
    "ed_st[4] = 0\n",
    "for n in [51]:\n",
    "    ed_st[4] = ed_st[4] + ed_st[n2v(n)]"
   ]
  },
  {
   "cell_type": "code",
   "execution_count": 226,
   "metadata": {
    "collapsed": false
   },
   "outputs": [
    {
     "data": {
      "text/html": [
       "<div>\n",
       "<table border=\"1\" class=\"dataframe\">\n",
       "  <thead>\n",
       "    <tr style=\"text-align: right;\">\n",
       "      <th></th>\n",
       "      <th>HD01_VD01</th>\n",
       "      <th>HD02_VD01</th>\n",
       "      <th>HD01_VD02</th>\n",
       "      <th>HD02_VD02</th>\n",
       "      <th>HD01_VD03</th>\n",
       "      <th>HD02_VD03</th>\n",
       "      <th>HD01_VD04</th>\n",
       "      <th>HD02_VD04</th>\n",
       "      <th>HD01_VD05</th>\n",
       "      <th>HD02_VD05</th>\n",
       "      <th>...</th>\n",
       "      <th>HD02_VD23</th>\n",
       "      <th>HD01_VD24</th>\n",
       "      <th>HD02_VD24</th>\n",
       "      <th>HD01_VD25</th>\n",
       "      <th>HD02_VD25</th>\n",
       "      <th>0</th>\n",
       "      <th>1</th>\n",
       "      <th>2</th>\n",
       "      <th>3</th>\n",
       "      <th>4</th>\n",
       "    </tr>\n",
       "    <tr>\n",
       "      <th>st_id</th>\n",
       "      <th></th>\n",
       "      <th></th>\n",
       "      <th></th>\n",
       "      <th></th>\n",
       "      <th></th>\n",
       "      <th></th>\n",
       "      <th></th>\n",
       "      <th></th>\n",
       "      <th></th>\n",
       "      <th></th>\n",
       "      <th></th>\n",
       "      <th></th>\n",
       "      <th></th>\n",
       "      <th></th>\n",
       "      <th></th>\n",
       "      <th></th>\n",
       "      <th></th>\n",
       "      <th></th>\n",
       "      <th></th>\n",
       "      <th></th>\n",
       "      <th></th>\n",
       "    </tr>\n",
       "  </thead>\n",
       "  <tbody>\n",
       "    <tr>\n",
       "      <th>1</th>\n",
       "      <td>2068193</td>\n",
       "      <td>108285.0</td>\n",
       "      <td>25404</td>\n",
       "      <td>16116</td>\n",
       "      <td>138</td>\n",
       "      <td>7211</td>\n",
       "      <td>234</td>\n",
       "      <td>7204</td>\n",
       "      <td>903</td>\n",
       "      <td>7560</td>\n",
       "      <td>...</td>\n",
       "      <td>31911</td>\n",
       "      <td>37766</td>\n",
       "      <td>15966</td>\n",
       "      <td>25668</td>\n",
       "      <td>13546</td>\n",
       "      <td>0.148762</td>\n",
       "      <td>0.344379</td>\n",
       "      <td>0.405843</td>\n",
       "      <td>0.088605</td>\n",
       "      <td>0.012411</td>\n",
       "    </tr>\n",
       "    <tr>\n",
       "      <th>10</th>\n",
       "      <td>256969</td>\n",
       "      <td>17578.0</td>\n",
       "      <td>3145</td>\n",
       "      <td>2397</td>\n",
       "      <td>29</td>\n",
       "      <td>988</td>\n",
       "      <td>58</td>\n",
       "      <td>942</td>\n",
       "      <td>114</td>\n",
       "      <td>1055</td>\n",
       "      <td>...</td>\n",
       "      <td>5885</td>\n",
       "      <td>5066</td>\n",
       "      <td>2538</td>\n",
       "      <td>5169</td>\n",
       "      <td>2434</td>\n",
       "      <td>0.123746</td>\n",
       "      <td>0.355895</td>\n",
       "      <td>0.389950</td>\n",
       "      <td>0.110293</td>\n",
       "      <td>0.020115</td>\n",
       "    </tr>\n",
       "    <tr>\n",
       "      <th>11</th>\n",
       "      <td>442721</td>\n",
       "      <td>87.0</td>\n",
       "      <td>4996</td>\n",
       "      <td>596</td>\n",
       "      <td>39</td>\n",
       "      <td>37</td>\n",
       "      <td>71</td>\n",
       "      <td>75</td>\n",
       "      <td>250</td>\n",
       "      <td>118</td>\n",
       "      <td>...</td>\n",
       "      <td>1836</td>\n",
       "      <td>37053</td>\n",
       "      <td>1419</td>\n",
       "      <td>17109</td>\n",
       "      <td>967</td>\n",
       "      <td>0.110903</td>\n",
       "      <td>0.219820</td>\n",
       "      <td>0.368422</td>\n",
       "      <td>0.262210</td>\n",
       "      <td>0.038645</td>\n",
       "    </tr>\n",
       "    <tr>\n",
       "      <th>12</th>\n",
       "      <td>10274116</td>\n",
       "      <td>397005.0</td>\n",
       "      <td>148390</td>\n",
       "      <td>63884</td>\n",
       "      <td>2313</td>\n",
       "      <td>17163</td>\n",
       "      <td>1770</td>\n",
       "      <td>17071</td>\n",
       "      <td>7279</td>\n",
       "      <td>19957</td>\n",
       "      <td>...</td>\n",
       "      <td>127875</td>\n",
       "      <td>209386</td>\n",
       "      <td>66279</td>\n",
       "      <td>113454</td>\n",
       "      <td>49977</td>\n",
       "      <td>0.135086</td>\n",
       "      <td>0.354333</td>\n",
       "      <td>0.412609</td>\n",
       "      <td>0.086930</td>\n",
       "      <td>0.011043</td>\n",
       "    </tr>\n",
       "    <tr>\n",
       "      <th>13</th>\n",
       "      <td>3013654</td>\n",
       "      <td>142189.0</td>\n",
       "      <td>40336</td>\n",
       "      <td>24344</td>\n",
       "      <td>398</td>\n",
       "      <td>9472</td>\n",
       "      <td>626</td>\n",
       "      <td>9465</td>\n",
       "      <td>2081</td>\n",
       "      <td>10476</td>\n",
       "      <td>...</td>\n",
       "      <td>47690</td>\n",
       "      <td>69822</td>\n",
       "      <td>23919</td>\n",
       "      <td>43130</td>\n",
       "      <td>19786</td>\n",
       "      <td>0.153681</td>\n",
       "      <td>0.317791</td>\n",
       "      <td>0.408510</td>\n",
       "      <td>0.105707</td>\n",
       "      <td>0.014312</td>\n",
       "    </tr>\n",
       "  </tbody>\n",
       "</table>\n",
       "<p>5 rows × 55 columns</p>\n",
       "</div>"
      ],
      "text/plain": [
       "       HD01_VD01  HD02_VD01  HD01_VD02  HD02_VD02  HD01_VD03  HD02_VD03  \\\n",
       "st_id                                                                     \n",
       "1        2068193   108285.0      25404      16116        138       7211   \n",
       "10        256969    17578.0       3145       2397         29        988   \n",
       "11        442721       87.0       4996        596         39         37   \n",
       "12      10274116   397005.0     148390      63884       2313      17163   \n",
       "13       3013654   142189.0      40336      24344        398       9472   \n",
       "\n",
       "       HD01_VD04  HD02_VD04  HD01_VD05  HD02_VD05    ...     HD02_VD23  \\\n",
       "st_id                                                ...                 \n",
       "1            234       7204        903       7560    ...         31911   \n",
       "10            58        942        114       1055    ...          5885   \n",
       "11            71         75        250        118    ...          1836   \n",
       "12          1770      17071       7279      19957    ...        127875   \n",
       "13           626       9465       2081      10476    ...         47690   \n",
       "\n",
       "       HD01_VD24  HD02_VD24  HD01_VD25  HD02_VD25         0         1  \\\n",
       "st_id                                                                   \n",
       "1          37766      15966      25668      13546  0.148762  0.344379   \n",
       "10          5066       2538       5169       2434  0.123746  0.355895   \n",
       "11         37053       1419      17109        967  0.110903  0.219820   \n",
       "12        209386      66279     113454      49977  0.135086  0.354333   \n",
       "13         69822      23919      43130      19786  0.153681  0.317791   \n",
       "\n",
       "              2         3         4  \n",
       "st_id                                \n",
       "1      0.405843  0.088605  0.012411  \n",
       "10     0.389950  0.110293  0.020115  \n",
       "11     0.368422  0.262210  0.038645  \n",
       "12     0.412609  0.086930  0.011043  \n",
       "13     0.408510  0.105707  0.014312  \n",
       "\n",
       "[5 rows x 55 columns]"
      ]
     },
     "execution_count": 226,
     "metadata": {},
     "output_type": "execute_result"
    }
   ],
   "source": [
    "for n in range(5):\n",
    "    ed_st[n] = ed_st[n]/ed_st[n2v(3)]\n",
    "ed_st.head()"
   ]
  },
  {
   "cell_type": "markdown",
   "metadata": {},
   "source": [
    "#### Insert the education levels into the states of the states collection"
   ]
  },
  {
   "cell_type": "code",
   "execution_count": 255,
   "metadata": {
    "collapsed": false
   },
   "outputs": [
    {
     "name": "stderr",
     "output_type": "stream",
     "text": [
      "51it [00:00, 1787.58it/s]\n"
     ]
    },
    {
     "data": {
      "text/plain": [
       "{'_id': 'AL',\n",
       " 'census_division': 'East South Central',\n",
       " 'crime_rate': 0.0158577070827861,\n",
       " 'ed_level': {'0': 0.14876174515627894,\n",
       "  '1': 0.34437936885000575,\n",
       "  '2': 0.4058431684083642,\n",
       "  '3': 0.08860488358678324,\n",
       "  '4': 0.012410833998567832},\n",
       " 'fips': 1,\n",
       " 'hpi': 0.0310071987368759,\n",
       " 'median_housing_costs': 745,\n",
       " 'name': 'alabama'}"
      ]
     },
     "execution_count": 255,
     "metadata": {},
     "output_type": "execute_result"
    }
   ],
   "source": [
    "for st in tqdm(ed_st.iterrows()):\n",
    "    if int(st[0]) in state_fips_dict.keys():\n",
    "        coll.update_one({'fips': int(st[0])}, {'$set': {'ed_level': {'1': st[1][1],\n",
    "                                                                                                    '2': st[1][2],\n",
    "                                                                                                    '3': st[1][3],\n",
    "                                                                                                    '4': st[1][4],\n",
    "                                                                                                    '0': st[1][0]}}})\n",
    "coll.find_one()"
   ]
  },
  {
   "cell_type": "markdown",
   "metadata": {},
   "source": [
    "#### Importing cost of living index and CBSA crosswalk"
   ]
  },
  {
   "cell_type": "code",
   "execution_count": 260,
   "metadata": {
    "collapsed": false
   },
   "outputs": [
    {
     "data": {
      "text/html": [
       "<div>\n",
       "<table border=\"1\" class=\"dataframe\">\n",
       "  <thead>\n",
       "    <tr style=\"text-align: right;\">\n",
       "      <th></th>\n",
       "      <th>CBSA Code</th>\n",
       "      <th>Metropolitan Division Code</th>\n",
       "      <th>CSA Code</th>\n",
       "      <th>CBSA Title</th>\n",
       "      <th>Metropolitan/Micropolitan Statistical Area</th>\n",
       "      <th>Metropolitan Division Title</th>\n",
       "      <th>CSA Title</th>\n",
       "      <th>County/County Equivalent</th>\n",
       "      <th>State Name</th>\n",
       "      <th>FIPS State Code</th>\n",
       "      <th>FIPS County Code</th>\n",
       "      <th>Central/Outlying County</th>\n",
       "    </tr>\n",
       "  </thead>\n",
       "  <tbody>\n",
       "    <tr>\n",
       "      <th>0</th>\n",
       "      <td>10100</td>\n",
       "      <td>NaN</td>\n",
       "      <td>NaN</td>\n",
       "      <td>Aberdeen, SD</td>\n",
       "      <td>Micropolitan Statistical Area</td>\n",
       "      <td>NaN</td>\n",
       "      <td>NaN</td>\n",
       "      <td>Brown County</td>\n",
       "      <td>South Dakota</td>\n",
       "      <td>46</td>\n",
       "      <td>13</td>\n",
       "      <td>Central</td>\n",
       "    </tr>\n",
       "    <tr>\n",
       "      <th>1</th>\n",
       "      <td>10100</td>\n",
       "      <td>NaN</td>\n",
       "      <td>NaN</td>\n",
       "      <td>Aberdeen, SD</td>\n",
       "      <td>Micropolitan Statistical Area</td>\n",
       "      <td>NaN</td>\n",
       "      <td>NaN</td>\n",
       "      <td>Edmunds County</td>\n",
       "      <td>South Dakota</td>\n",
       "      <td>46</td>\n",
       "      <td>45</td>\n",
       "      <td>Outlying</td>\n",
       "    </tr>\n",
       "    <tr>\n",
       "      <th>2</th>\n",
       "      <td>10140</td>\n",
       "      <td>NaN</td>\n",
       "      <td>NaN</td>\n",
       "      <td>Aberdeen, WA</td>\n",
       "      <td>Micropolitan Statistical Area</td>\n",
       "      <td>NaN</td>\n",
       "      <td>NaN</td>\n",
       "      <td>Grays Harbor County</td>\n",
       "      <td>Washington</td>\n",
       "      <td>53</td>\n",
       "      <td>27</td>\n",
       "      <td>Central</td>\n",
       "    </tr>\n",
       "    <tr>\n",
       "      <th>3</th>\n",
       "      <td>10180</td>\n",
       "      <td>NaN</td>\n",
       "      <td>NaN</td>\n",
       "      <td>Abilene, TX</td>\n",
       "      <td>Metropolitan Statistical Area</td>\n",
       "      <td>NaN</td>\n",
       "      <td>NaN</td>\n",
       "      <td>Callahan County</td>\n",
       "      <td>Texas</td>\n",
       "      <td>48</td>\n",
       "      <td>59</td>\n",
       "      <td>Outlying</td>\n",
       "    </tr>\n",
       "    <tr>\n",
       "      <th>4</th>\n",
       "      <td>10180</td>\n",
       "      <td>NaN</td>\n",
       "      <td>NaN</td>\n",
       "      <td>Abilene, TX</td>\n",
       "      <td>Metropolitan Statistical Area</td>\n",
       "      <td>NaN</td>\n",
       "      <td>NaN</td>\n",
       "      <td>Jones County</td>\n",
       "      <td>Texas</td>\n",
       "      <td>48</td>\n",
       "      <td>253</td>\n",
       "      <td>Outlying</td>\n",
       "    </tr>\n",
       "  </tbody>\n",
       "</table>\n",
       "</div>"
      ],
      "text/plain": [
       "   CBSA Code  Metropolitan Division Code  CSA Code    CBSA Title  \\\n",
       "0      10100                         NaN       NaN  Aberdeen, SD   \n",
       "1      10100                         NaN       NaN  Aberdeen, SD   \n",
       "2      10140                         NaN       NaN  Aberdeen, WA   \n",
       "3      10180                         NaN       NaN   Abilene, TX   \n",
       "4      10180                         NaN       NaN   Abilene, TX   \n",
       "\n",
       "  Metropolitan/Micropolitan Statistical Area Metropolitan Division Title  \\\n",
       "0              Micropolitan Statistical Area                         NaN   \n",
       "1              Micropolitan Statistical Area                         NaN   \n",
       "2              Micropolitan Statistical Area                         NaN   \n",
       "3              Metropolitan Statistical Area                         NaN   \n",
       "4              Metropolitan Statistical Area                         NaN   \n",
       "\n",
       "  CSA Title County/County Equivalent    State Name  FIPS State Code  \\\n",
       "0       NaN             Brown County  South Dakota               46   \n",
       "1       NaN           Edmunds County  South Dakota               46   \n",
       "2       NaN      Grays Harbor County    Washington               53   \n",
       "3       NaN          Callahan County         Texas               48   \n",
       "4       NaN             Jones County         Texas               48   \n",
       "\n",
       "   FIPS County Code Central/Outlying County  \n",
       "0                13                 Central  \n",
       "1                45                Outlying  \n",
       "2                27                 Central  \n",
       "3                59                Outlying  \n",
       "4               253                Outlying  "
      ]
     },
     "execution_count": 260,
     "metadata": {},
     "output_type": "execute_result"
    }
   ],
   "source": [
    "cbsa = pd.read_csv('data/metro_micro_county_crosswalk.csv', encoding = 'latin-1')\n",
    "cbsa.head()"
   ]
  },
  {
   "cell_type": "code",
   "execution_count": 263,
   "metadata": {
    "collapsed": false
   },
   "outputs": [
    {
     "data": {
      "text/html": [
       "<div>\n",
       "<table border=\"1\" class=\"dataframe\">\n",
       "  <thead>\n",
       "    <tr style=\"text-align: right;\">\n",
       "      <th></th>\n",
       "      <th>CITY CODE</th>\n",
       "      <th>STATE</th>\n",
       "      <th>METRO/MICRO</th>\n",
       "      <th>URBAN AREA AND STATE</th>\n",
       "      <th>INDEX</th>\n",
       "    </tr>\n",
       "  </thead>\n",
       "  <tbody>\n",
       "    <tr>\n",
       "      <th>0</th>\n",
       "      <td>01-11500-100</td>\n",
       "      <td>Alabama</td>\n",
       "      <td>Anniston-Oxford-Jacksonville AL Metro</td>\n",
       "      <td>Anniston-Calhoun County AL</td>\n",
       "      <td>86.3</td>\n",
       "    </tr>\n",
       "    <tr>\n",
       "      <th>1</th>\n",
       "      <td>01-12220-125</td>\n",
       "      <td>Alabama</td>\n",
       "      <td>Auburn-Opelika AL Metro</td>\n",
       "      <td>Auburn-Opelika AL</td>\n",
       "      <td>96.0</td>\n",
       "    </tr>\n",
       "    <tr>\n",
       "      <th>2</th>\n",
       "      <td>01-13820-200</td>\n",
       "      <td>Alabama</td>\n",
       "      <td>Birmingham-Hoover AL Metro</td>\n",
       "      <td>Birmingham AL</td>\n",
       "      <td>89.5</td>\n",
       "    </tr>\n",
       "    <tr>\n",
       "      <th>3</th>\n",
       "      <td>01-19460-235</td>\n",
       "      <td>Alabama</td>\n",
       "      <td>Decatur AL Metro</td>\n",
       "      <td>Decatur-Hartselle AL</td>\n",
       "      <td>86.5</td>\n",
       "    </tr>\n",
       "    <tr>\n",
       "      <th>4</th>\n",
       "      <td>01-20020-250</td>\n",
       "      <td>Alabama</td>\n",
       "      <td>Dothan AL Metro</td>\n",
       "      <td>Dothan AL</td>\n",
       "      <td>85.3</td>\n",
       "    </tr>\n",
       "  </tbody>\n",
       "</table>\n",
       "</div>"
      ],
      "text/plain": [
       "      CITY CODE    STATE                            METRO/MICRO  \\\n",
       "0  01-11500-100  Alabama  Anniston-Oxford-Jacksonville AL Metro   \n",
       "1  01-12220-125  Alabama                Auburn-Opelika AL Metro   \n",
       "2  01-13820-200  Alabama             Birmingham-Hoover AL Metro   \n",
       "3  01-19460-235  Alabama                       Decatur AL Metro   \n",
       "4  01-20020-250  Alabama                        Dothan AL Metro   \n",
       "\n",
       "         URBAN AREA AND STATE  INDEX  \n",
       "0  Anniston-Calhoun County AL   86.3  \n",
       "1           Auburn-Opelika AL   96.0  \n",
       "2               Birmingham AL   89.5  \n",
       "3        Decatur-Hartselle AL   86.5  \n",
       "4                   Dothan AL   85.3  "
      ]
     },
     "execution_count": 263,
     "metadata": {},
     "output_type": "execute_result"
    }
   ],
   "source": [
    "coli = pd.read_csv('data/coli.csv')\n",
    "coli.head()"
   ]
  },
  {
   "cell_type": "code",
   "execution_count": 282,
   "metadata": {
    "collapsed": false
   },
   "outputs": [
    {
     "data": {
      "text/html": [
       "<div>\n",
       "<table border=\"1\" class=\"dataframe\">\n",
       "  <thead>\n",
       "    <tr style=\"text-align: right;\">\n",
       "      <th></th>\n",
       "      <th>CITY CODE</th>\n",
       "      <th>STATE</th>\n",
       "      <th>METRO/MICRO</th>\n",
       "      <th>URBAN AREA AND STATE</th>\n",
       "      <th>INDEX</th>\n",
       "      <th>st</th>\n",
       "      <th>cbsa_f</th>\n",
       "    </tr>\n",
       "  </thead>\n",
       "  <tbody>\n",
       "    <tr>\n",
       "      <th>0</th>\n",
       "      <td>01-11500-100</td>\n",
       "      <td>Alabama</td>\n",
       "      <td>Anniston-Oxford-Jacksonville AL Metro</td>\n",
       "      <td>Anniston-Calhoun County AL</td>\n",
       "      <td>86.3</td>\n",
       "      <td>1</td>\n",
       "      <td>11500</td>\n",
       "    </tr>\n",
       "    <tr>\n",
       "      <th>1</th>\n",
       "      <td>01-12220-125</td>\n",
       "      <td>Alabama</td>\n",
       "      <td>Auburn-Opelika AL Metro</td>\n",
       "      <td>Auburn-Opelika AL</td>\n",
       "      <td>96.0</td>\n",
       "      <td>1</td>\n",
       "      <td>12220</td>\n",
       "    </tr>\n",
       "    <tr>\n",
       "      <th>2</th>\n",
       "      <td>01-13820-200</td>\n",
       "      <td>Alabama</td>\n",
       "      <td>Birmingham-Hoover AL Metro</td>\n",
       "      <td>Birmingham AL</td>\n",
       "      <td>89.5</td>\n",
       "      <td>1</td>\n",
       "      <td>13820</td>\n",
       "    </tr>\n",
       "    <tr>\n",
       "      <th>3</th>\n",
       "      <td>01-19460-235</td>\n",
       "      <td>Alabama</td>\n",
       "      <td>Decatur AL Metro</td>\n",
       "      <td>Decatur-Hartselle AL</td>\n",
       "      <td>86.5</td>\n",
       "      <td>1</td>\n",
       "      <td>19460</td>\n",
       "    </tr>\n",
       "    <tr>\n",
       "      <th>4</th>\n",
       "      <td>01-20020-250</td>\n",
       "      <td>Alabama</td>\n",
       "      <td>Dothan AL Metro</td>\n",
       "      <td>Dothan AL</td>\n",
       "      <td>85.3</td>\n",
       "      <td>1</td>\n",
       "      <td>20020</td>\n",
       "    </tr>\n",
       "  </tbody>\n",
       "</table>\n",
       "</div>"
      ],
      "text/plain": [
       "      CITY CODE    STATE                            METRO/MICRO  \\\n",
       "0  01-11500-100  Alabama  Anniston-Oxford-Jacksonville AL Metro   \n",
       "1  01-12220-125  Alabama                Auburn-Opelika AL Metro   \n",
       "2  01-13820-200  Alabama             Birmingham-Hoover AL Metro   \n",
       "3  01-19460-235  Alabama                       Decatur AL Metro   \n",
       "4  01-20020-250  Alabama                        Dothan AL Metro   \n",
       "\n",
       "         URBAN AREA AND STATE  INDEX  st  cbsa_f  \n",
       "0  Anniston-Calhoun County AL   86.3   1   11500  \n",
       "1           Auburn-Opelika AL   96.0   1   12220  \n",
       "2               Birmingham AL   89.5   1   13820  \n",
       "3        Decatur-Hartselle AL   86.5   1   19460  \n",
       "4                   Dothan AL   85.3   1   20020  "
      ]
     },
     "execution_count": 282,
     "metadata": {},
     "output_type": "execute_result"
    }
   ],
   "source": [
    "# Decomposes the CITY CODE into the state and cbsa fips identifiers\n",
    "coli['st'] = pd.to_numeric(coli['CITY CODE'].apply(lambda x: x[:2]))\n",
    "coli['cbsa_f'] = pd.to_numeric(coli['CITY CODE'].apply(lambda x: x[3:8]))\n",
    "\n",
    "coli.head()"
   ]
  },
  {
   "cell_type": "markdown",
   "metadata": {},
   "source": [
    "#### Insert the price indexes into places collection"
   ]
  },
  {
   "cell_type": "code",
   "execution_count": 300,
   "metadata": {
    "collapsed": false
   },
   "outputs": [
    {
     "name": "stderr",
     "output_type": "stream",
     "text": []
    },
    {
     "name": "stdout",
     "output_type": "stream",
     "text": [
      "\n"
     ]
    },
    {
     "data": {
      "text/plain": [
       "{'_id': ObjectId('581d15cf9e8de2482c1bc3f3'),\n",
       " 'county': 'chambers county',\n",
       " 'county_fips': 71,\n",
       " 'crime_rate': 0.06453368965431916,\n",
       " 'ed_level': {'0': 0.7209302325581395,\n",
       "  '1': 0.27906976744186046,\n",
       "  '2': 0.0,\n",
       "  '3': 0.0,\n",
       "  '4': 0.0},\n",
       " 'fips': 100,\n",
       " 'func_stat': 's',\n",
       " 'hpi_rate': 7.052,\n",
       " 'name': 'abanda cdp',\n",
       " 'state': DBRef('states', 'AL'),\n",
       " 'type': 'census designated place'}"
      ]
     },
     "execution_count": 300,
     "metadata": {},
     "output_type": "execute_result"
    }
   ],
   "source": [
    "for co in tqdm_notebook(coli.iterrows()):\n",
    "    st = co[1]['st']\n",
    "    cbsa_f = co[1]['cbsa_f']\n",
    "    index = co[1]['INDEX']\n",
    "    for county in tqdm(cbsa[cbsa['CBSA Code'] == cbsa_f].iterrows(), leave=False):\n",
    "        state_f = county[1]['FIPS State Code']\n",
    "        try:\n",
    "            st_abbr = state_fips_dict[state_f]\n",
    "        except:\n",
    "            pass\n",
    "        county_f = county[1]['FIPS County Code']\n",
    "        coll2.update_many({'county_fips': county_f, 'state': DBRef('states', st_abbr)}, {'$set': {'price_index': index}})\n",
    "\n",
    "coll2.find_one()"
   ]
  },
  {
   "cell_type": "code",
   "execution_count": 303,
   "metadata": {
    "collapsed": false
   },
   "outputs": [
    {
     "data": {
      "text/plain": [
       "10912"
      ]
     },
     "execution_count": 303,
     "metadata": {},
     "output_type": "execute_result"
    }
   ],
   "source": [
    "coll2.find({'price_index': {'$exists': 1}}).count()"
   ]
  },
  {
   "cell_type": "markdown",
   "metadata": {},
   "source": [
    "#### Insert price indexes into the states collection"
   ]
  },
  {
   "cell_type": "code",
   "execution_count": 317,
   "metadata": {
    "collapsed": false
   },
   "outputs": [
    {
     "data": {
      "text/plain": [
       "{'_id': 'AL',\n",
       " 'census_division': 'East South Central',\n",
       " 'crime_rate': 0.0158577070827861,\n",
       " 'ed_level': {'0': 0.14876174515627894,\n",
       "  '1': 0.34437936885000575,\n",
       "  '2': 0.4058431684083642,\n",
       "  '3': 0.08860488358678324,\n",
       "  '4': 0.012410833998567832},\n",
       " 'fips': 1,\n",
       " 'hpi': 0.0310071987368759,\n",
       " 'median_housing_costs': 745,\n",
       " 'name': 'alabama',\n",
       " 'price_index': 89.85555555555555}"
      ]
     },
     "execution_count": 317,
     "metadata": {},
     "output_type": "execute_result"
    }
   ],
   "source": [
    "ind_state = coli.groupby('st')['INDEX'].mean()\n",
    "ind_state.head()\n",
    "for col in ind_state.iteritems():\n",
    "    coll.update_one({'fips': int(col[0])}, {'$set': {'price_index': col[1]}}) #int64 needed to be converted to a native Python int to work with BSON\n",
    "\n",
    "coll.find_one()"
   ]
  },
  {
   "cell_type": "markdown",
   "metadata": {},
   "source": [
    "#### Import 2016 Election Data"
   ]
  },
  {
   "cell_type": "code",
   "execution_count": 3,
   "metadata": {
    "collapsed": false
   },
   "outputs": [],
   "source": [
    "import json\n",
    "with open('data/election_map.json') as dat:\n",
    "    parsed_json = json.loads(dat.read())"
   ]
  },
  {
   "cell_type": "code",
   "execution_count": 12,
   "metadata": {
    "collapsed": false
   },
   "outputs": [
    {
     "data": {
      "text/plain": [
       "dict_keys(['candidates', 'key_race', 'counties', 'state_slug', 'race_id', 'report', 'nyt_rating', 'reporting_display', 'votes', 'state_id', 'electoral_votes', 'poll_display', 'precincts_total', 'office', 'race_type', 'uncontested', 'result', 'poll_time', 'has_incumbent', 'result_source', 'election_type', 'precincts_reporting', 'guid', 'path', 'race_name', 'election_date', 'race_slug'])"
      ]
     },
     "execution_count": 12,
     "metadata": {},
     "output_type": "execute_result"
    }
   ],
   "source": [
    "parsed_json[1].keys()"
   ]
  },
  {
   "cell_type": "markdown",
   "metadata": {},
   "source": [
    "#### Insert County Election Data into Places as republican and democrate rates"
   ]
  },
  {
   "cell_type": "code",
   "execution_count": 4,
   "metadata": {
    "collapsed": false
   },
   "outputs": [
    {
     "name": "stdout",
     "output_type": "stream",
     "text": [
      "\n"
     ]
    }
   ],
   "source": [
    "for elec_state in tqdm_notebook(parsed_json):\n",
    "    s_abbr = elec_state['state_id']\n",
    "    #print(s_abbr)\n",
    "    for elec_county in tqdm_notebook(elec_state['counties'], leave= False):\n",
    "        #print(elec_county['name'])\n",
    "        if 'est_votes_remaining' in elec_county:\n",
    "            if elec_county['est_votes_remaining'] == 0:\n",
    "                cnty_f = int(elec_county['fips'][2:])\n",
    "                votes = elec_county['votes']\n",
    "                rep = elec_county['results']['trumpd']/votes\n",
    "                dem = elec_county['results']['clintonh']/votes\n",
    "                #print(rep, dem)\n",
    "                coll2.update_many({'state': DBRef('states', s_abbr), 'county_fips': cnty_f}, {'$set': {'republican': rep, 'democrat': dem }})"
   ]
  },
  {
   "cell_type": "code",
   "execution_count": 10,
   "metadata": {
    "collapsed": false
   },
   "outputs": [
    {
     "name": "stdout",
     "output_type": "stream",
     "text": [
      "\n"
     ]
    }
   ],
   "source": [
    "for elec_state in tqdm_notebook(parsed_json):\n",
    "    s_abbr = elec_state['state_id']\n",
    "    for candidate in elec_state['candidates']:\n",
    "        if candidate['candidate_key'] == 'trumpd':\n",
    "            coll.update_one({'_id': s_abbr}, {'$set': {'republican': candidate['percent']}})\n",
    "        elif candidate['candidate_key'] == 'clintonh':\n",
    "            coll.update_one({'_id': s_abbr}, {'$set': {'democrat': candidate['percent']}})"
   ]
  },
  {
   "cell_type": "code",
   "execution_count": 18,
   "metadata": {
    "collapsed": false
   },
   "outputs": [
    {
     "data": {
      "text/plain": [
       "{'_id': 'MO',\n",
       " 'census_division': 'West North Central',\n",
       " 'crime_rate': 0.044650618635267,\n",
       " 'democrat': 38,\n",
       " 'ed_level': {'0': 0.1182740374440974,\n",
       "  '1': 0.3636961054387611,\n",
       "  '2': 0.40775455781120146,\n",
       "  '3': 0.09764087167633963,\n",
       "  '4': 0.012634427629600433},\n",
       " 'fips': 29,\n",
       " 'hpi': 0.040215618771516456,\n",
       " 'median_housing_costs': 817,\n",
       " 'name': 'missouri',\n",
       " 'price_index': 90.91666666666667,\n",
       " 'republican': 57.1}"
      ]
     },
     "execution_count": 18,
     "metadata": {},
     "output_type": "execute_result"
    }
   ],
   "source": [
    "coll.find_one({'_id': 'MO'})"
   ]
  }
 ],
 "metadata": {
  "anaconda-cloud": {},
  "kernelspec": {
   "display_name": "Python [default]",
   "language": "python",
   "name": "python3"
  },
  "language_info": {
   "codemirror_mode": {
    "name": "ipython",
    "version": 3
   },
   "file_extension": ".py",
   "mimetype": "text/x-python",
   "name": "python",
   "nbconvert_exporter": "python",
   "pygments_lexer": "ipython3",
   "version": "3.5.2"
  }
 },
 "nbformat": 4,
 "nbformat_minor": 1
}
