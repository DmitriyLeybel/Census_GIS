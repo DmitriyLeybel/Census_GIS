{
 "cells": [
  {
   "cell_type": "code",
   "execution_count": 244,
   "metadata": {},
   "outputs": [],
   "source": [
    "import numpy as np\n",
    "\n",
    "import sklearn.cluster\n",
    "import sklearn.preprocessing\n",
    "import sklearn.manifold\n",
    "\n",
    "import scipy.stats as stats\n",
    "\n",
    "from bokeh.charts import Scatter\n",
    "from bokeh.io import output_notebook, show\n",
    "from bokeh.plotting import figure\n",
    "from bokeh.layouts import gridplot\n",
    "from bokeh.models import Label\n",
    "from bokeh.palettes import plasma"
   ]
  },
  {
   "cell_type": "markdown",
   "metadata": {},
   "source": [
    "## Regression Analysis"
   ]
  },
  {
   "cell_type": "markdown",
   "metadata": {},
   "source": [
    "#### Correlation between doctorate degrees and crime"
   ]
  },
  {
   "cell_type": "code",
   "execution_count": 103,
   "metadata": {},
   "outputs": [
    {
     "name": "stderr",
     "output_type": "stream",
     "text": [
      "\r",
      "0it [00:00, ?it/s]\r",
      "102it [00:00, 386.73it/s]\r",
      "24984it [00:00, 552.11it/s]\r",
      "30707it [00:00, 79171.33it/s]\n"
     ]
    }
   ],
   "source": [
    "cursor = coll2.find({'ed_level.4': {'$exists': 1}, 'crime_rate': {'$exists': 1}}, {'ed_level.4': 1, 'name': 1, 'crime_rate': 1})\n",
    "\n",
    "index, cr, ed = [], [], []\n",
    "for pl in tqdm(cursor):\n",
    "    index.append(pl['name'])\n",
    "    cr.append(pl['crime_rate'])\n",
    "    ed.append(pl['ed_level']['4'])"
   ]
  },
  {
   "cell_type": "code",
   "execution_count": 107,
   "metadata": {},
   "outputs": [
    {
     "data": {
      "text/plain": [
       "(-0.0046758052013247823, 0.41259714781487766)"
      ]
     },
     "execution_count": 107,
     "metadata": {},
     "output_type": "execute_result"
    }
   ],
   "source": [
    "# Returns (r-value, p-value)\n",
    "stats.pearsonr(ed, cr) "
   ]
  },
  {
   "cell_type": "markdown",
   "metadata": {},
   "source": [
    "#### Correlation between Masters/Professional Degrees and Crime "
   ]
  },
  {
   "cell_type": "code",
   "execution_count": 109,
   "metadata": {},
   "outputs": [
    {
     "name": "stderr",
     "output_type": "stream",
     "text": [
      "\r",
      "0it [00:00, ?it/s]\r",
      "102it [00:00, 370.72it/s]\r",
      "26231it [00:00, 529.28it/s]\r",
      "30707it [00:00, 78486.76it/s]\n"
     ]
    }
   ],
   "source": [
    "cursor = coll2.find({'ed_level.3': {'$exists': 1}, 'crime_rate': {'$exists': 1}}, {'ed_level.3': 1, 'name': 1, 'crime_rate': 1})\n",
    "\n",
    "index, cr, ed = [], [], []\n",
    "for pl in tqdm(cursor):\n",
    "    index.append(pl['name'])\n",
    "    cr.append(pl['crime_rate'])\n",
    "    ed.append(pl['ed_level']['3'])"
   ]
  },
  {
   "cell_type": "code",
   "execution_count": 110,
   "metadata": {},
   "outputs": [
    {
     "data": {
      "text/plain": [
       "(-0.0056297837013149412, 0.32388884484233282)"
      ]
     },
     "execution_count": 110,
     "metadata": {},
     "output_type": "execute_result"
    }
   ],
   "source": [
    "stats.pearsonr(ed, cr)"
   ]
  },
  {
   "cell_type": "markdown",
   "metadata": {},
   "source": [
    "#### Correlation between College Degree or 1+ year attendance of college and Crime"
   ]
  },
  {
   "cell_type": "code",
   "execution_count": 111,
   "metadata": {},
   "outputs": [
    {
     "name": "stderr",
     "output_type": "stream",
     "text": [
      "\r",
      "0it [00:00, ?it/s]\r",
      "102it [00:00, 400.41it/s]\r",
      "27129it [00:00, 571.65it/s]\r",
      "30707it [00:00, 83476.89it/s]\n"
     ]
    }
   ],
   "source": [
    "cursor = coll2.find({'ed_level.2': {'$exists': 1}, 'crime_rate': {'$exists': 1}}, {'ed_level.2': 1, 'name': 1, 'crime_rate': 1})\n",
    "\n",
    "index, cr, ed = [], [], []\n",
    "for pl in tqdm(cursor):\n",
    "    index.append(pl['name'])\n",
    "    cr.append(pl['crime_rate'])\n",
    "    ed.append(pl['ed_level']['2'])"
   ]
  },
  {
   "cell_type": "code",
   "execution_count": 112,
   "metadata": {},
   "outputs": [
    {
     "data": {
      "text/plain": [
       "(0.0091422773553193441, 0.10915400193132264)"
      ]
     },
     "execution_count": 112,
     "metadata": {},
     "output_type": "execute_result"
    }
   ],
   "source": [
    "stats.pearsonr(ed, cr)"
   ]
  },
  {
   "cell_type": "markdown",
   "metadata": {},
   "source": [
    "####  Correlation between High School Education Rate and Crime"
   ]
  },
  {
   "cell_type": "code",
   "execution_count": 113,
   "metadata": {},
   "outputs": [
    {
     "name": "stderr",
     "output_type": "stream",
     "text": [
      "\r",
      "0it [00:00, ?it/s]\r",
      "102it [00:00, 400.41it/s]\r",
      "22968it [00:00, 571.58it/s]\r",
      "30707it [00:00, 78968.13it/s]\n"
     ]
    }
   ],
   "source": [
    "cursor = coll2.find({'ed_level.1': {'$exists': 1}, 'crime_rate': {'$exists': 1}}, {'ed_level.1': 1, 'name': 1, 'crime_rate': 1})\n",
    "\n",
    "index, cr, ed = [], [], []\n",
    "for pl in tqdm(cursor):\n",
    "    index.append(pl['name'])\n",
    "    cr.append(pl['crime_rate'])\n",
    "    ed.append(pl['ed_level']['1'])"
   ]
  },
  {
   "cell_type": "code",
   "execution_count": 116,
   "metadata": {},
   "outputs": [
    {
     "data": {
      "text/plain": [
       "((0.00052436402301413154, 0.92679120596422149),\n",
       " SpearmanrResult(correlation=-0.0092007042270162622, pvalue=0.10690844487168247))"
      ]
     },
     "execution_count": 116,
     "metadata": {},
     "output_type": "execute_result"
    }
   ],
   "source": [
    "stats.pearsonr(ed, cr), stats.spearmanr(ed, cr)"
   ]
  },
  {
   "cell_type": "code",
   "execution_count": 293,
   "metadata": {},
   "outputs": [
    {
     "data": {
      "text/html": [
       "\n",
       "    <div class=\"bk-root\">\n",
       "        <a href=\"http://bokeh.pydata.org\" target=\"_blank\" class=\"bk-logo bk-logo-small bk-logo-notebook\"></a>\n",
       "        <span id=\"9c344f3d-3a2d-49a4-9e4f-38d7b86bb4c8\">Loading BokehJS ...</span>\n",
       "    </div>"
      ]
     },
     "metadata": {},
     "output_type": "display_data"
    },
    {
     "data": {
      "application/javascript": [
       "\n",
       "(function(global) {\n",
       "  function now() {\n",
       "    return new Date();\n",
       "  }\n",
       "\n",
       "  var force = \"1\";\n",
       "\n",
       "  if (typeof (window._bokeh_onload_callbacks) === \"undefined\" || force !== \"\") {\n",
       "    window._bokeh_onload_callbacks = [];\n",
       "    window._bokeh_is_loading = undefined;\n",
       "  }\n",
       "\n",
       "\n",
       "  \n",
       "  if (typeof (window._bokeh_timeout) === \"undefined\" || force !== \"\") {\n",
       "    window._bokeh_timeout = Date.now() + 5000;\n",
       "    window._bokeh_failed_load = false;\n",
       "  }\n",
       "\n",
       "  var NB_LOAD_WARNING = {'data': {'text/html':\n",
       "     \"<div style='background-color: #fdd'>\\n\"+\n",
       "     \"<p>\\n\"+\n",
       "     \"BokehJS does not appear to have successfully loaded. If loading BokehJS from CDN, this \\n\"+\n",
       "     \"may be due to a slow or bad network connection. Possible fixes:\\n\"+\n",
       "     \"</p>\\n\"+\n",
       "     \"<ul>\\n\"+\n",
       "     \"<li>re-rerun `output_notebook()` to attempt to load from CDN again, or</li>\\n\"+\n",
       "     \"<li>use INLINE resources instead, as so:</li>\\n\"+\n",
       "     \"</ul>\\n\"+\n",
       "     \"<code>\\n\"+\n",
       "     \"from bokeh.resources import INLINE\\n\"+\n",
       "     \"output_notebook(resources=INLINE)\\n\"+\n",
       "     \"</code>\\n\"+\n",
       "     \"</div>\"}};\n",
       "\n",
       "  function display_loaded() {\n",
       "    if (window.Bokeh !== undefined) {\n",
       "      Bokeh.$(\"#9c344f3d-3a2d-49a4-9e4f-38d7b86bb4c8\").text(\"BokehJS successfully loaded.\");\n",
       "    } else if (Date.now() < window._bokeh_timeout) {\n",
       "      setTimeout(display_loaded, 100)\n",
       "    }\n",
       "  }\n",
       "\n",
       "  function run_callbacks() {\n",
       "    window._bokeh_onload_callbacks.forEach(function(callback) { callback() });\n",
       "    delete window._bokeh_onload_callbacks\n",
       "    console.info(\"Bokeh: all callbacks have finished\");\n",
       "  }\n",
       "\n",
       "  function load_libs(js_urls, callback) {\n",
       "    window._bokeh_onload_callbacks.push(callback);\n",
       "    if (window._bokeh_is_loading > 0) {\n",
       "      console.log(\"Bokeh: BokehJS is being loaded, scheduling callback at\", now());\n",
       "      return null;\n",
       "    }\n",
       "    if (js_urls == null || js_urls.length === 0) {\n",
       "      run_callbacks();\n",
       "      return null;\n",
       "    }\n",
       "    console.log(\"Bokeh: BokehJS not loaded, scheduling load and callback at\", now());\n",
       "    window._bokeh_is_loading = js_urls.length;\n",
       "    for (var i = 0; i < js_urls.length; i++) {\n",
       "      var url = js_urls[i];\n",
       "      var s = document.createElement('script');\n",
       "      s.src = url;\n",
       "      s.async = false;\n",
       "      s.onreadystatechange = s.onload = function() {\n",
       "        window._bokeh_is_loading--;\n",
       "        if (window._bokeh_is_loading === 0) {\n",
       "          console.log(\"Bokeh: all BokehJS libraries loaded\");\n",
       "          run_callbacks()\n",
       "        }\n",
       "      };\n",
       "      s.onerror = function() {\n",
       "        console.warn(\"failed to load library \" + url);\n",
       "      };\n",
       "      console.log(\"Bokeh: injecting script tag for BokehJS library: \", url);\n",
       "      document.getElementsByTagName(\"head\")[0].appendChild(s);\n",
       "    }\n",
       "  };var element = document.getElementById(\"9c344f3d-3a2d-49a4-9e4f-38d7b86bb4c8\");\n",
       "  if (element == null) {\n",
       "    console.log(\"Bokeh: ERROR: autoload.js configured with elementid '9c344f3d-3a2d-49a4-9e4f-38d7b86bb4c8' but no matching script tag was found. \")\n",
       "    return false;\n",
       "  }\n",
       "\n",
       "  var js_urls = ['https://cdn.pydata.org/bokeh/release/bokeh-0.12.2.min.js', 'https://cdn.pydata.org/bokeh/release/bokeh-widgets-0.12.2.min.js', 'https://cdn.pydata.org/bokeh/release/bokeh-compiler-0.12.2.min.js'];\n",
       "\n",
       "  var inline_js = [\n",
       "    function(Bokeh) {\n",
       "      Bokeh.set_log_level(\"info\");\n",
       "    },\n",
       "    \n",
       "    function(Bokeh) {\n",
       "      \n",
       "      Bokeh.$(\"#9c344f3d-3a2d-49a4-9e4f-38d7b86bb4c8\").text(\"BokehJS is loading...\");\n",
       "    },\n",
       "    function(Bokeh) {\n",
       "      console.log(\"Bokeh: injecting CSS: https://cdn.pydata.org/bokeh/release/bokeh-0.12.2.min.css\");\n",
       "      Bokeh.embed.inject_css(\"https://cdn.pydata.org/bokeh/release/bokeh-0.12.2.min.css\");\n",
       "      console.log(\"Bokeh: injecting CSS: https://cdn.pydata.org/bokeh/release/bokeh-widgets-0.12.2.min.css\");\n",
       "      Bokeh.embed.inject_css(\"https://cdn.pydata.org/bokeh/release/bokeh-widgets-0.12.2.min.css\");\n",
       "    }\n",
       "  ];\n",
       "\n",
       "  function run_inline_js() {\n",
       "    \n",
       "    if ((window.Bokeh !== undefined) || (force === \"1\")) {\n",
       "      for (var i = 0; i < inline_js.length; i++) {\n",
       "        inline_js[i](window.Bokeh);\n",
       "      }if (force === \"1\") {\n",
       "        display_loaded();\n",
       "      }} else if (Date.now() < window._bokeh_timeout) {\n",
       "      setTimeout(run_inline_js, 100);\n",
       "    } else if (!window._bokeh_failed_load) {\n",
       "      console.log(\"Bokeh: BokehJS failed to load within specified timeout.\");\n",
       "      window._bokeh_failed_load = true;\n",
       "    } else if (!force) {\n",
       "      var cell = $(\"#9c344f3d-3a2d-49a4-9e4f-38d7b86bb4c8\").parents('.cell').data().cell;\n",
       "      cell.output_area.append_execute_result(NB_LOAD_WARNING)\n",
       "    }\n",
       "\n",
       "  }\n",
       "\n",
       "  if (window._bokeh_is_loading === 0) {\n",
       "    console.log(\"Bokeh: BokehJS loaded, going straight to plotting\");\n",
       "    run_inline_js();\n",
       "  } else {\n",
       "    load_libs(js_urls, function() {\n",
       "      console.log(\"Bokeh: BokehJS plotting callback run at\", now());\n",
       "      run_inline_js();\n",
       "    });\n",
       "  }\n",
       "}(this));"
      ]
     },
     "metadata": {},
     "output_type": "display_data"
    }
   ],
   "source": [
    "output_notebook()"
   ]
  },
  {
   "cell_type": "code",
   "execution_count": 223,
   "metadata": {},
   "outputs": [],
   "source": [
    "# Create a list of tuples (title, names, education rate, crime)\n",
    "titles = {0: 'Up to 12 Grade'\n",
    "         ,1: 'High School or Equivalent'\n",
    "         ,2: 'College Educated(Degree or 1+ Years of Attendnce)'\n",
    "         ,3: 'Professional School or Masters'\n",
    "         ,4: 'Doctorate'}\n",
    "ec_dict = {'name': [], 'crime':[], '0': [], '1': [], '2': [], '3': [], '4': []}\n",
    "\n",
    "cursor = coll2.find({'ed_level': {'$exists': 1}, 'crime_rate': {'$exists': 1}},\n",
    "                    {'ed_level': 1, 'name': 1, 'crime_rate': 1})\n",
    "\n",
    "for pl in cursor:\n",
    "    ec_dict['name'].append(pl['name'])\n",
    "    for n in range(5):\n",
    "        ec_dict[str(n)].append(pl['ed_level'][str(n)])\n",
    "    ec_dict['crime'].append(pl['crime_rate'])"
   ]
  },
  {
   "cell_type": "code",
   "execution_count": 177,
   "metadata": {},
   "outputs": [
    {
     "data": {
      "text/html": [
       "<div>\n",
       "<table border=\"1\" class=\"dataframe\">\n",
       "  <thead>\n",
       "    <tr style=\"text-align: right;\">\n",
       "      <th></th>\n",
       "      <th>0</th>\n",
       "      <th>1</th>\n",
       "      <th>2</th>\n",
       "      <th>3</th>\n",
       "      <th>4</th>\n",
       "      <th>crime</th>\n",
       "      <th>name</th>\n",
       "    </tr>\n",
       "  </thead>\n",
       "  <tbody>\n",
       "    <tr>\n",
       "      <th>0</th>\n",
       "      <td>0.720930</td>\n",
       "      <td>0.279070</td>\n",
       "      <td>0.000000</td>\n",
       "      <td>0.000000</td>\n",
       "      <td>0.000000</td>\n",
       "      <td>0.064534</td>\n",
       "      <td>abanda cdp</td>\n",
       "    </tr>\n",
       "    <tr>\n",
       "      <th>1</th>\n",
       "      <td>0.331793</td>\n",
       "      <td>0.318952</td>\n",
       "      <td>0.285054</td>\n",
       "      <td>0.062147</td>\n",
       "      <td>0.002054</td>\n",
       "      <td>0.033433</td>\n",
       "      <td>abbeville city</td>\n",
       "    </tr>\n",
       "    <tr>\n",
       "      <th>2</th>\n",
       "      <td>0.187172</td>\n",
       "      <td>0.471477</td>\n",
       "      <td>0.291088</td>\n",
       "      <td>0.048104</td>\n",
       "      <td>0.002158</td>\n",
       "      <td>0.051562</td>\n",
       "      <td>adamsville city</td>\n",
       "    </tr>\n",
       "    <tr>\n",
       "      <th>3</th>\n",
       "      <td>0.310395</td>\n",
       "      <td>0.411420</td>\n",
       "      <td>0.199122</td>\n",
       "      <td>0.079063</td>\n",
       "      <td>0.000000</td>\n",
       "      <td>0.024654</td>\n",
       "      <td>addison town</td>\n",
       "    </tr>\n",
       "    <tr>\n",
       "      <th>4</th>\n",
       "      <td>0.318408</td>\n",
       "      <td>0.383085</td>\n",
       "      <td>0.218905</td>\n",
       "      <td>0.079602</td>\n",
       "      <td>0.000000</td>\n",
       "      <td>0.030532</td>\n",
       "      <td>akron town</td>\n",
       "    </tr>\n",
       "  </tbody>\n",
       "</table>\n",
       "</div>"
      ],
      "text/plain": [
       "          0         1         2         3         4     crime             name\n",
       "0  0.720930  0.279070  0.000000  0.000000  0.000000  0.064534       abanda cdp\n",
       "1  0.331793  0.318952  0.285054  0.062147  0.002054  0.033433   abbeville city\n",
       "2  0.187172  0.471477  0.291088  0.048104  0.002158  0.051562  adamsville city\n",
       "3  0.310395  0.411420  0.199122  0.079063  0.000000  0.024654     addison town\n",
       "4  0.318408  0.383085  0.218905  0.079602  0.000000  0.030532       akron town"
      ]
     },
     "execution_count": 177,
     "metadata": {},
     "output_type": "execute_result"
    }
   ],
   "source": [
    "ec = pd.DataFrame(ec_dict)\n",
    "ec.head()"
   ]
  },
  {
   "cell_type": "code",
   "execution_count": null,
   "metadata": {},
   "outputs": [],
   "source": [
    "# Pearson R\n",
    "plts = [Scatter(ec, y='crime', x=str(n), title=titles[n], xlabel='Education Rate') for n in range(5)]\n",
    "for p in enumerate(plts):\n",
    "    p[1].add_layout(Label(x=60, y=50, x_units='screen', y_units='screen',  text='Pearson R:' + str(stats.pearsonr(ec['crime'], ec[str(p[0])]))))\n",
    "grid = gridplot(plts, ncols=3, plot_width=500)\n",
    "\n",
    "show(grid)"
   ]
  },
  {
   "cell_type": "code",
   "execution_count": null,
   "metadata": {},
   "outputs": [],
   "source": [
    "# Spearman R\n",
    "plts = [Scatter(ec, y='crime', x=str(n), title=titles[n], xlabel='Education Rate') for n in range(5)]\n",
    "for p in enumerate(plts):\n",
    "    p[1].add_layout(Label(x=60, y=50, x_units='screen', y_units='screen',  text='Pearson R:' + str(stats.spearmanr(ec['crime'], ec[str(p[0])]))))\n",
    "grid = gridplot(plts, ncols=3, plot_width=500)\n",
    "\n",
    "show(grid)"
   ]
  },
  {
   "cell_type": "markdown",
   "metadata": {},
   "source": [
    "## Cluster Analysis "
   ]
  },
  {
   "cell_type": "code",
   "execution_count": 235,
   "metadata": {},
   "outputs": [],
   "source": [
    "# Creates the classifier which should structure the data into 5 clusters\n",
    "km = sklearn.cluster.KMeans(n_clusters=5, n_jobs=-1)"
   ]
  },
  {
   "cell_type": "code",
   "execution_count": 238,
   "metadata": {},
   "outputs": [],
   "source": [
    "# Selects all of the places with median_housing_costs and democrat fields\n",
    "cursor = coll2.find({'median_housing_costs': {'$exists': 1}, 'democrat': {'$exists': 1}})\n",
    "housing_costs, democrat = [],[]\n",
    "for pl in cursor:\n",
    "    housing_costs.append(pl['median_housing_costs'])\n",
    "    democrat.append(pl['democrat'])"
   ]
  },
  {
   "cell_type": "code",
   "execution_count": 253,
   "metadata": {},
   "outputs": [
    {
     "name": "stdout",
     "output_type": "stream",
     "text": [
      "26028 26028\n"
     ]
    },
    {
     "data": {
      "text/plain": [
       "(26028, 2)"
      ]
     },
     "execution_count": 253,
     "metadata": {},
     "output_type": "execute_result"
    }
   ],
   "source": [
    "print(len(democrat), len(housing_costs))\n",
    "dem_costs = np.array([democrat,housing_costs]).T\n",
    "dem_costs.shape"
   ]
  },
  {
   "cell_type": "code",
   "execution_count": 254,
   "metadata": {},
   "outputs": [
    {
     "name": "stderr",
     "output_type": "stream",
     "text": [
      "C:\\Anaconda3\\lib\\site-packages\\sklearn\\utils\\validation.py:420: DataConversionWarning: Data with input dtype <U32 was converted to float64 by the scale function.\n",
      "  warnings.warn(msg, DataConversionWarning)\n"
     ]
    },
    {
     "data": {
      "text/plain": [
       "0.99999999999999989"
      ]
     },
     "execution_count": 254,
     "metadata": {},
     "output_type": "execute_result"
    }
   ],
   "source": [
    "# Scales the data around mean with a stdev of 1\n",
    "dem_costs = sklearn.preprocessing.scale(dem_costs, axis=0)\n",
    "dem_costs[:,].std()"
   ]
  },
  {
   "cell_type": "code",
   "execution_count": 256,
   "metadata": {},
   "outputs": [],
   "source": [
    "# Map colors\n",
    "ind = km.fit_predict(dem_costs)\n",
    "\n",
    "colors = bokeh.palettes.plasma(len(np.unique(ind)))\n",
    "color_dict = {num: c for c, num in zip(colors, np.unique(ind))}\n",
    "ind_s = pd.Series(ind)\n",
    "ind_s.replace(color_dict, inplace=True)"
   ]
  },
  {
   "cell_type": "code",
   "execution_count": null,
   "metadata": {},
   "outputs": [],
   "source": [
    "f = figure(y_axis_label='Normalized Democrat %', x_axis_label='Normalized Median Housing Cost')\n",
    "f.scatter(x=dem_costs[:,0], y=dem_costs[:,1], color=ind_s)\n",
    "show(f)"
   ]
  },
  {
   "cell_type": "markdown",
   "metadata": {},
   "source": [
    "## Dimensionality Reduction and Clustering"
   ]
  },
  {
   "cell_type": "code",
   "execution_count": 344,
   "metadata": {},
   "outputs": [],
   "source": [
    "# Creates an instance of the dimensionality reduction algorithm with 2 components\n",
    "ts = sklearn.manifold.TSNE(n_components=2, learning_rate=20, early_exaggeration=16, n_iter=2500)"
   ]
  },
  {
   "cell_type": "code",
   "execution_count": 302,
   "metadata": {},
   "outputs": [
    {
     "data": {
      "text/plain": [
       "{'_id': 'AL',\n",
       " 'census_division': 'East South Central',\n",
       " 'crime_rate': 0.0158577070827861,\n",
       " 'democrat': 34.6,\n",
       " 'ed_level': {'0': 0.14876174515627894,\n",
       "  '1': 0.34437936885000575,\n",
       "  '2': 0.4058431684083642,\n",
       "  '3': 0.08860488358678324,\n",
       "  '4': 0.012410833998567832},\n",
       " 'fips': 1,\n",
       " 'hpi': 0.0310071987368759,\n",
       " 'median_housing_costs': 745,\n",
       " 'name': 'alabama',\n",
       " 'price_index': 89.85555555555555,\n",
       " 'republican': 62.9}"
      ]
     },
     "execution_count": 302,
     "metadata": {},
     "output_type": "execute_result"
    }
   ],
   "source": [
    "coll.find_one()"
   ]
  },
  {
   "cell_type": "code",
   "execution_count": 316,
   "metadata": {},
   "outputs": [],
   "source": [
    "crime_rate, democrat, ed0, ed2, ed3, hpi, median_housing_costs, price_index = [],[],[],[],[],[],[],[]\n",
    "cursor = coll2.find({'democrat': {'$exists': 1},'ed_level.0': {'$exists': 1},\n",
    "                     'ed_level.2': {'$exists': 1},'ed_level.3': {'$exists': 1},\n",
    "                     'hpi_rate': {'$exists': 1},'price_index': {'$exists': 1},\n",
    "                     'crime_rate': {'$exists': 1},'median_housing_costs': {'$exists': 1},})\n",
    "for pl in cursor:\n",
    "    crime_rate.append(pl['crime_rate'])\n",
    "    democrat.append(pl['democrat'])\n",
    "    ed0.append(pl['ed_level']['0'])\n",
    "    ed2.append(pl['ed_level']['2'])\n",
    "    ed3.append(pl['ed_level']['3'])\n",
    "    hpi.append(pl['hpi_rate'])\n",
    "    median_housing_costs.append(pl['median_housing_costs'])\n",
    "    price_index.append(pl['price_index'])\n",
    "\n",
    "multi = np.array([crime_rate, democrat, ed0, ed2, ed3, hpi, median_housing_costs, price_index])"
   ]
  },
  {
   "cell_type": "code",
   "execution_count": 317,
   "metadata": {},
   "outputs": [
    {
     "name": "stderr",
     "output_type": "stream",
     "text": [
      "C:\\Anaconda3\\lib\\site-packages\\sklearn\\utils\\validation.py:420: DataConversionWarning: Data with input dtype <U32 was converted to float64 by the scale function.\n",
      "  warnings.warn(msg, DataConversionWarning)\n"
     ]
    }
   ],
   "source": [
    "multi = multi.T\n",
    "multi = sklearn.preprocessing.scale(multi, axis=0)"
   ]
  },
  {
   "cell_type": "code",
   "execution_count": 345,
   "metadata": {},
   "outputs": [],
   "source": [
    "t = ts.fit_transform(multi)"
   ]
  },
  {
   "cell_type": "code",
   "execution_count": 346,
   "metadata": {},
   "outputs": [
    {
     "data": {
      "text/html": [
       "\n",
       "\n",
       "    <div class=\"bk-root\">\n",
       "        <div class=\"plotdiv\" id=\"628cae31-6c20-492c-8539-308e51357b9d\"></div>\n",
       "    </div>\n",
       "<script type=\"text/javascript\">\n",
       "  \n",
       "  (function(global) {\n",
       "    function now() {\n",
       "      return new Date();\n",
       "    }\n",
       "  \n",
       "    var force = \"\";\n",
       "  \n",
       "    if (typeof (window._bokeh_onload_callbacks) === \"undefined\" || force !== \"\") {\n",
       "      window._bokeh_onload_callbacks = [];\n",
       "      window._bokeh_is_loading = undefined;\n",
       "    }\n",
       "  \n",
       "  \n",
       "    \n",
       "    if (typeof (window._bokeh_timeout) === \"undefined\" || force !== \"\") {\n",
       "      window._bokeh_timeout = Date.now() + 0;\n",
       "      window._bokeh_failed_load = false;\n",
       "    }\n",
       "  \n",
       "    var NB_LOAD_WARNING = {'data': {'text/html':\n",
       "       \"<div style='background-color: #fdd'>\\n\"+\n",
       "       \"<p>\\n\"+\n",
       "       \"BokehJS does not appear to have successfully loaded. If loading BokehJS from CDN, this \\n\"+\n",
       "       \"may be due to a slow or bad network connection. Possible fixes:\\n\"+\n",
       "       \"</p>\\n\"+\n",
       "       \"<ul>\\n\"+\n",
       "       \"<li>re-rerun `output_notebook()` to attempt to load from CDN again, or</li>\\n\"+\n",
       "       \"<li>use INLINE resources instead, as so:</li>\\n\"+\n",
       "       \"</ul>\\n\"+\n",
       "       \"<code>\\n\"+\n",
       "       \"from bokeh.resources import INLINE\\n\"+\n",
       "       \"output_notebook(resources=INLINE)\\n\"+\n",
       "       \"</code>\\n\"+\n",
       "       \"</div>\"}};\n",
       "  \n",
       "    function display_loaded() {\n",
       "      if (window.Bokeh !== undefined) {\n",
       "        Bokeh.$(\"#628cae31-6c20-492c-8539-308e51357b9d\").text(\"BokehJS successfully loaded.\");\n",
       "      } else if (Date.now() < window._bokeh_timeout) {\n",
       "        setTimeout(display_loaded, 100)\n",
       "      }\n",
       "    }\n",
       "  \n",
       "    function run_callbacks() {\n",
       "      window._bokeh_onload_callbacks.forEach(function(callback) { callback() });\n",
       "      delete window._bokeh_onload_callbacks\n",
       "      console.info(\"Bokeh: all callbacks have finished\");\n",
       "    }\n",
       "  \n",
       "    function load_libs(js_urls, callback) {\n",
       "      window._bokeh_onload_callbacks.push(callback);\n",
       "      if (window._bokeh_is_loading > 0) {\n",
       "        console.log(\"Bokeh: BokehJS is being loaded, scheduling callback at\", now());\n",
       "        return null;\n",
       "      }\n",
       "      if (js_urls == null || js_urls.length === 0) {\n",
       "        run_callbacks();\n",
       "        return null;\n",
       "      }\n",
       "      console.log(\"Bokeh: BokehJS not loaded, scheduling load and callback at\", now());\n",
       "      window._bokeh_is_loading = js_urls.length;\n",
       "      for (var i = 0; i < js_urls.length; i++) {\n",
       "        var url = js_urls[i];\n",
       "        var s = document.createElement('script');\n",
       "        s.src = url;\n",
       "        s.async = false;\n",
       "        s.onreadystatechange = s.onload = function() {\n",
       "          window._bokeh_is_loading--;\n",
       "          if (window._bokeh_is_loading === 0) {\n",
       "            console.log(\"Bokeh: all BokehJS libraries loaded\");\n",
       "            run_callbacks()\n",
       "          }\n",
       "        };\n",
       "        s.onerror = function() {\n",
       "          console.warn(\"failed to load library \" + url);\n",
       "        };\n",
       "        console.log(\"Bokeh: injecting script tag for BokehJS library: \", url);\n",
       "        document.getElementsByTagName(\"head\")[0].appendChild(s);\n",
       "      }\n",
       "    };var element = document.getElementById(\"628cae31-6c20-492c-8539-308e51357b9d\");\n",
       "    if (element == null) {\n",
       "      console.log(\"Bokeh: ERROR: autoload.js configured with elementid '628cae31-6c20-492c-8539-308e51357b9d' but no matching script tag was found. \")\n",
       "      return false;\n",
       "    }\n",
       "  \n",
       "    var js_urls = [];\n",
       "  \n",
       "    var inline_js = [\n",
       "      function(Bokeh) {\n",
       "        Bokeh.$(function() {\n",
       "            var docs_json = {\"64a49516-388f-436b-9573-1336d906b104\":{\"roots\":{\"references\":[{\"attributes\":{\"below\":[{\"id\":\"9c1154af-3b75-43d1-b38f-67a9f8f402a2\",\"type\":\"LinearAxis\"}],\"left\":[{\"id\":\"451b8912-689f-4667-ae85-2510aa61d7f6\",\"type\":\"LinearAxis\"}],\"renderers\":[{\"id\":\"9c1154af-3b75-43d1-b38f-67a9f8f402a2\",\"type\":\"LinearAxis\"},{\"id\":\"38026f99-444e-44a8-8920-4ea38c370376\",\"type\":\"Grid\"},{\"id\":\"451b8912-689f-4667-ae85-2510aa61d7f6\",\"type\":\"LinearAxis\"},{\"id\":\"2514199d-1545-49e4-9b25-bad8f75aa285\",\"type\":\"Grid\"},{\"id\":\"bfaf9558-d3ae-4fbf-9fe2-fd94948c3c9b\",\"type\":\"BoxAnnotation\"},{\"id\":\"b05967b8-68eb-4aab-822f-c3769eb2cbee\",\"type\":\"GlyphRenderer\"}],\"title\":{\"id\":\"4c475012-70b0-40ed-af2d-ec2eefb6e5cd\",\"type\":\"Title\"},\"tool_events\":{\"id\":\"cef86d2e-e98b-4e6d-8210-0d4942d6b654\",\"type\":\"ToolEvents\"},\"toolbar\":{\"id\":\"233c11a4-00e8-4955-b730-80317e579f56\",\"type\":\"Toolbar\"},\"x_range\":{\"id\":\"c357e811-20ca-40bc-abfd-3e660421a009\",\"type\":\"DataRange1d\"},\"y_range\":{\"id\":\"126791a1-f23c-4a89-8eb7-51eba34d8609\",\"type\":\"DataRange1d\"}},\"id\":\"f00d5045-1438-4f70-8d62-cda79eddd8d1\",\"subtype\":\"Figure\",\"type\":\"Plot\"},{\"attributes\":{},\"id\":\"5bc97f2b-79ef-4397-8242-40473d71326b\",\"type\":\"BasicTickFormatter\"},{\"attributes\":{\"fill_alpha\":{\"value\":0.1},\"fill_color\":{\"value\":\"#1f77b4\"},\"line_alpha\":{\"value\":0.1},\"line_color\":{\"value\":\"#1f77b4\"},\"x\":{\"field\":\"x\"},\"y\":{\"field\":\"y\"}},\"id\":\"f343673a-43a0-46cb-a72b-9d4d41ad7fd6\",\"type\":\"Circle\"},{\"attributes\":{\"plot\":{\"id\":\"f00d5045-1438-4f70-8d62-cda79eddd8d1\",\"subtype\":\"Figure\",\"type\":\"Plot\"}},\"id\":\"1f4422f9-ab1b-4a69-95b4-71f01600457f\",\"type\":\"WheelZoomTool\"},{\"attributes\":{},\"id\":\"15aef0da-e9a8-44cf-b120-413168c4d5a9\",\"type\":\"BasicTicker\"},{\"attributes\":{\"callback\":null,\"column_names\":[\"y\",\"x\"],\"data\":{\"x\":[0.007352380516673534,0.883248341831103,0.9524270355032082,-0.3582973924351215,-0.4346716893043689,0.43181279773656933,-1.1548604166142393,-1.317749946621173,1.0520668666234554,-1.6732092978486472,-1.3644882248122747,2.027765321611526,-1.474238203452717,-1.199342947875676,-0.43052463819706943,-0.5807614202527952,-0.6300768082831943,0.47456966519383037,-0.3893194697260204,1.277564801394286,2.2646285396361665,1.5554817266432182,2.485105285342697,-1.3466389428195331,-1.0982482324672078,-1.686462864704641,-0.9654729625819037,-1.5314502763693585,-1.3482060362537245,1.0343067819488754,2.1570735203119473,0.9957656979378832,-0.45634908218258413,1.4750744478756064,-1.1694842163789878,-0.8241287805115389,-0.9374324693123999,-1.0232765419022938,1.340486019562339,-0.025196542525616036,-1.2982374693816114,-0.9363475024112538,-0.8802598915320917,2.244067302626611,-0.6064653225829969,2.4022281317881733,-0.9792063970651871,-0.5279095368316715,0.9450530870569401,2.005306089548237,2.5895815683486787,1.82552985898451,-1.4108553667368013,2.290429459691063,1.458750186889267,1.4732830635209517,-0.4211402602636906,2.186519867612412,0.6442059876156171,1.5517203963229353,-0.2951607922737015,0.8390064790318037,-0.11422547915225179,0.41043405582856807,1.9547795871632063,2.266324524505233,-0.11230916202896903,2.28050172302462,-1.300790405982532,-0.8332628274033415,-0.9105803604180344,0.5036007941239417,0.5639448573520504,2.804124171151532,-0.6134017013968285,0.20865986484379212,2.078943428117611,1.4881517765621555,-1.2250718896816204,0.9670816686849102,0.44264529017358833,1.0713797537973033,0.07313666915208891,2.2551299219668,2.013074145862944,2.948049798526235,-0.5159501257977798,-0.43508027827897355,1.8060865658050491,-0.7017496752200102,0.7308143434880792,1.977741273794802,-0.1726230921191496,2.198672477379636,1.6782457902912589,1.3964254032674968,-1.0371792974268235,-1.6505189334702497,0.9532470943311334,-0.6195047117976226,-0.5525662279511581,-0.9409934121584324,-1.4035043147173905,1.3470735733182964,-0.5077695267511328,1.645584423863754,2.3698093263940225,2.8730028448141494,2.1583943035729045,2.1898810673920646,2.5342601840253955,-1.7413429311195052,-0.06463618892040611,-0.8384836108445298,-2.3397519772263373,1.4174818118636225,0.5340170432451389,0.019106624724496295,-0.3800178299639426,-2.8344015637150157,0.5053825148911878,-1.8411817671254294,-0.30112842136850837,0.9896445941751016,1.2869736163748653,0.5304288986874555,-2.7773566317018683,1.5300367794714234,0.6547473251744096,0.3668966788601662,-0.05452746338846926,1.0320672742484698,0.052406808367816596,-0.12519642654325525,1.7309910343306436,0.8191054201031878,0.8187063831913959,1.3413077715703483,-1.0968696468577548,-0.27147705902851305,-1.5390620757707314,1.0990260850467597,-0.7973889378771359,-0.31142997322636634,-2.2016999502347545,1.2857231726248977,-0.5904208259120779,0.04487531372167419,-2.2606972012744677,1.2033759155243517,-2.6758644441377673,0.6942166073338483,-2.248431882778632,0.6501976458588168,-0.7620475416884445,0.6380520153361626,0.440668842290736,0.22733144975820851,-1.5697536025647616,1.7527476854714041,2.0002756224415115,2.7075248150003444,-0.6996151624777918,-0.2105765892130379,0.5988729837789865,0.9002199453666864,3.000671807159927,-1.950941816616319,-0.06372983273316854,1.2892460610732834,-1.3467035335865989,1.442883433141435,-0.3290584633427752,1.2849498613588455,-0.9040240876060345,-0.8972525044306646,-1.0788487410149157,0.6829953574995115,-0.4056386540203218,1.1041010702756473,1.0784362799740934,1.534046522347295,-0.5200303266449268,1.0570700240651907,-0.3990409147081254,-2.7756518819497207,-1.6123933312148806,1.7615675760609761,-2.717022046350684,2.112607118426888,0.45871489940838267,-1.4724205344752408,-0.800541903100562,-0.256649518922885,0.5969143915571968,-0.9218409677833697,-0.5401454827919391,-0.468884416715458,2.035507929555016,-1.318980148049987,-2.0320740975718232,1.1349083336722934,0.41034971231700773,-1.2468022643674292,1.2613010756682164,-0.05216169044468018,1.1668149303089317,0.3820045131977655,0.39293646389603204,-2.8060784486439765,-0.7399073977985958,1.123116581266433,2.239008392956299,-0.3660458333377833,0.7666489693902434,-2.2036315860921962,0.8701634150827159,-2.081158077783895,-1.1345692741943645,-0.16845293939671768,-2.502222792426018,-1.0772612796316747,-0.21391146473870282,0.20612884107565974,1.7207522284277956,1.8651922068457372,-1.6143221947318878,-0.10480478671474903,-1.3897308311831342,-1.267820007709671,-0.6370631011627217,-0.7035513501477846,-1.34907427802432,-0.8823818048141868,1.2667571780303926,-0.7974179157425013,-0.5484102230845345,-1.1322946980683435,-0.4466734777214557,-0.7488951979345259,2.337625926226285,-0.6771356421246171,0.5006211761031636,-0.3807783568579179,-0.24308242129795005,0.04156074961100128,1.67973715692353,0.8066296347043665,0.24367549226217086,0.5625172524765397,1.3490339101016524,0.779709364331838,1.203432485514945,0.21487867412779998,0.5488414002038908,2.158215822556824,2.5739715869577418,-1.1795017652217097,-1.090959257289348,-1.7878584523159928,-2.202064312344244,1.8401529946334163,1.051542284382355,-1.382551272564683,2.1774968737761813,0.8840830805815539,0.20573860294824928,-0.5926595129109854,-1.896627886053105,-0.008844195774786841,-2.0485406809998494,-1.620979629924064,-1.4577999145582,-0.8516394055091865,0.9917439842808281,-0.8191029140927153,-0.7741648538450696,0.2981511725877434,-0.8532993926526401,-0.14857957402871522,-0.8476668884858568,-1.289458531370767,-1.5753366047705488,-1.4129510100291605,0.3062618163697893,-0.4088526037114815,-2.096968981272942,-0.4880161451660889,-1.3521643780439188,1.0717408666224837,-1.0723487674957783,1.0096444836553073,1.0488630988755172,-2.8274201933251506,1.0161298727180847,0.7049844182498237,-1.958372513988688,2.813141676782445,1.2958539448733697,1.0977422201727924,0.4645713325001923,-2.3347642030521056,-0.4504200109524757,0.76700217850515,-0.23103449809134383,-0.5875711048238881,2.574883603583963,0.8580337865545065,-0.019218702460307706,0.8626296063475929,1.0084448432374578,-0.35401711200004216,-0.4749047880867772,-1.9483650379561772,0.2254895880168903,0.43363930922634775,-0.24717478421507158,1.9796921929356848,-0.3976856031185811,1.2458667793274014,-1.6517779286539889,-1.8649933556684342,-1.591097893422714,-1.0482499344094989,1.7080009192095074,0.4599828652958778,-0.5209208300658913,1.8208700351170872,2.3512779564723147,1.1738670977527128,1.94361866256154,1.3317515123544996,-1.5752104586827704,2.2837126811078097,-1.3193157656593588,-1.8182331524045188,0.09904798100195315,-2.318977671052695,-0.771680046051034,0.35540949629729585,-0.7051405130548971,-0.7837473747482254,0.23192329784797713,-2.85011012225243,-0.5430532617333778,0.21035932279333097,1.1147017827796462,1.2641877059701876,1.338125931748062,0.5985889702204116,-0.7439853347482401,1.2198504525090874,-0.463670203427718,-2.371864325345295,1.4823158015309263,-1.2726623247548112,1.8975746986490418,1.7204679632762827,-0.3590282116312252,-0.8980684703806533,1.2644478424098275,0.7692256243897322,1.86782128792888,2.026177089667975,1.328736558616076,2.783076569491733,-1.7511241303492415,-0.8299600718041147,-1.9504966269589066,-0.19206729833818495,-2.352399387981239,2.9530136732310432,-1.3331211035267276,0.32309911537848696,1.0905756896354577,2.3527874855576947,2.677181060804872,1.9495132010927132,1.1596396201618653,-0.353548833506798,2.2173720077782275,0.9120510424017332,1.5352978407081141,2.618732126511123,0.18240748449784083,1.3764504055155533,-0.9797147501839558,-0.6984505005558987,-0.858191158149357,-1.2775570045505247,-0.24913723136185514,-0.19804274108830697,-0.4103475169821311,-1.6896899307289355,0.22407271988889246,1.561730667716919,1.1075318072065798,1.2928357429229786,2.824438874258745,1.5053338111713215,1.5466447195888164,-2.301286397314218,-1.397129255781913,1.5180331288801485,1.7717413675957308,0.2298047702463693,2.1824823142949596,-1.8708656945333966,0.28018815298911476,2.1568184583537358,0.28044547515373464,1.9763361225317067,2.335446482881384,2.3134268604376955,-1.3476926575293222,-0.27330720680779413,0.6708506396461463,1.3663154324398872,1.396719704338448,0.32910000440496845,0.9465118068636729,1.388047002257107,-0.9391942304249111,1.058009103392454,1.0240943312674275,2.243187191075376,0.5833580795310424,1.2497462191709416,-1.7159734679313323,1.0674473218142158,-1.6172550005363513,1.6505217125000409,1.0690430875314456,-2.7513385524037317,0.1399722628004233,1.154680977371461,1.530893060424196,-1.0432217603137164,-1.2066626449936484,1.6378996798679157,1.3453626583385176,1.9364570511494539,2.3521611203583825,0.6382204635990273,2.2291896766161874,-1.3617485936782752,0.7565878808937722,1.7158223219903204,-1.569223444205985,0.0741604173376423,-1.1843579457229279,0.0043715835191102965,0.7419541382531825,0.3595534510711798,-0.2688528922585488,0.2314850669268149,0.6243876817281637,0.8822334048008692,-1.5384617907888822,-0.994813623724834,0.6005069175339902,-1.3035869799055073,-0.33126631082801494,1.6806748220450531,-1.991313152682723,-0.5023440400069498,-3.1591968205127365,-0.9458775349875868,-0.177718716494151,-3.070483172874573,-2.7622736492740563,0.28139959919465096,-2.2470239501697598,-0.8500091272441811,0.1056221628685649,-1.3509243453800943,-2.1523445049811407,-2.296665511118119,-1.6516566517981797,0.2565592045579879,-2.4106010545119725,-1.0653675192517071,-3.092472856434855,2.617379082250482,-1.3320017774466901,-2.3582072851143305,-2.9191791184601232,0.734831324006867,-2.5832649447162903,-2.79635894461991,-2.810853034025638,-2.8405371098252985,-1.9275149202499993,-0.610891593123207,-2.8974596952207814,-0.8166170158370831,-0.691942103133239,-0.5684038432823574,-1.4109989085367947,-1.2991475578459188,-2.8892143420045597,2.041213385911631,2.773006862810986,1.199839197721239,-0.5807850712897539,-0.531675773646464,-0.9200394145093584,-0.6934645669330568,-1.2875842283649088,-1.2462142147012323,-0.41320131362706264,1.7561230198375621,-1.097187893360188,-2.0558692189704844],\"y\":[-2.2925740455087147,-2.0367173659631552,-1.9989051395509638,-3.353659991702479,-0.3309316808460832,-1.5662731966679224,-2.5613495053567386,-2.5253225691641035,-1.613892420636604,-0.36178348860520426,0.515454240601583,1.752264645763786,-2.0520214139006145,-1.2338370246506096,-2.907459884497925,-0.2536490614923738,-1.8084979625406024,-3.4205767130974243,-0.9648570564272402,-2.857060123999924,-1.938912262815113,-0.06133591311724306,-1.8825736854464357,-2.5280414917976546,-2.8368923866641076,-0.5594742539841205,-3.063161158903668,-1.2675107570062674,1.848542096899584,-2.7809664917814425,-1.81444400936923,-0.4165175849726939,3.156099197572795,-3.2247287078367575,3.1232701837788874,2.7344041350887687,3.548750293131512,2.86119789806033,-3.295550290952603,3.0374416164662623,2.728227647306151,3.5420585455952343,3.040124710521944,1.337945876454243,0.311899624718771,1.1277947720009107,1.879183218222944,2.9314986547133732,0.14417805867591432,0.7212268567267206,0.16818137678662307,0.5585967174663525,2.2496085781294615,-1.6793137226068267,2.221768036884401,-2.5293271088136677,2.640454134537044,-1.8489619794214727,1.934428835587344,0.4501365928502669,2.6439083923104487,-0.4523815297001206,0.20500521203186278,2.7085323675375452,1.1868995017258293,-2.3767488951422333,2.108150971730505,-0.015405441489425312,-2.2169349090514183,0.8951774191647425,-0.4192199812922872,2.8852978290264613,0.14060207224643423,0.32903177673170597,0.5098359724256531,2.699146380116462,-0.4816603820020035,2.26428029367863,-2.6365601954646234,-2.517117595349738,-2.8489096157481653,-2.964538631803143,-1.7401863780765192,-1.8600696402999048,1.8441005428447583,0.20750701813364,-2.2429896292597826,0.20837441070763207,0.1487420310874541,1.083577864394334,0.46531572717392694,1.5317580249567742,-1.38483234529737,-2.0812816587895666,-2.6472382858880548,-1.553687683311275,0.9820547443415086,1.0703552683879036,1.9626395515762678,-3.071707395124764,-3.1873987430596533,3.4645513179738914,3.0054829415746993,2.1738635546842704,2.305476974679235,-1.8395958921229203,-0.05402847345654143,0.4736038244516947,0.9060056043986282,-0.5534403994542512,-0.8147217325009478,-0.6262035313395258,-1.9412102899614339,0.8841631670362725,0.16417444039272164,0.8373826605741447,-0.49265401654097785,-0.5725806677213572,-1.99016198665589,-0.5409446319701388,-0.3076713715811633,-0.5762938283083475,-2.5582967012485156,-0.9629039748802075,-1.0878501924262791,-1.0022126283768924,-0.36532664404550336,-0.3005381450540264,1.2222677363662082,2.4668282213455757,0.05689092628317203,-1.778789296227817,0.24138343577289456,-0.11346000283348394,0.7660330568940862,-1.4745607548925912,-0.8164275412279751,1.499479078226052,1.023399306035446,-1.673876927174307,0.03937176296731547,1.7674488780046271,2.4776753588122675,2.719619739878838,0.006223104271107655,-0.44834623306507815,0.5942116257345513,0.3999705487478746,0.5277892047589421,-2.9595292337361636,0.0273963580553888,-0.39875443327551197,-0.402068740422718,0.37548549779317925,1.9918457605090696,1.1286150540562916,2.8664203227771683,0.14097540036749318,0.16631119926825222,-0.09633710043894295,1.413487895432977,1.0307413468581368,0.6542428211491095,0.0545499480020782,0.01068631832425186,0.14607753436978824,0.964566821955194,-1.5321349878619226,0.08445255055967542,-0.6505564981369745,-2.0412435378184965,-0.8031445253142757,-3.1742003366846228,-2.579581982094352,-1.6414827189659689,-1.4559593693786905,-2.7997108016700416,-0.10636632064336266,-3.059189763683316,2.1471832162450597,-2.306016635408787,-1.8732099403007567,-2.9697912493176655,2.4239351133877935,0.12309640162676987,-0.423794035217859,0.12546365007133617,0.832460356926273,-0.2099906167607339,0.8728120066141865,-2.1142271939191315,0.4192285273755409,-2.600677585305899,-0.36428337611458883,2.7212822915934742,-2.3950562060552105,1.1737943726354716,-0.08291646689847346,-0.2790256564632855,-2.6595496857683956,-1.2508971411080416,-1.903585192145968,-3.1359784848304564,-1.648208021429329,-0.591105935730946,0.07016019126103414,-2.583904138260353,-2.157242276169305,-2.365795270873261,-0.5471278105785696,0.9083252073583132,-2.3988777414334597,-2.0481401062677027,-1.225963538716482,-2.5760469109207347,1.9413042883503617,1.9749602311990415,1.515078954432401,2.2069615880748263,2.959898119034427,1.6967309910762811,2.2653254099225877,2.7027285041262252,2.8590121560752806,0.24035703678569634,0.2485948041755037,0.09623428113158616,3.0236492570013263,1.5180044384934333,-2.435153933888317,1.2385055003975658,-0.9946845027499411,0.22818803131782767,-0.5460009760681739,2.307905218510148,-2.8657538065559662,-0.6549422797351386,-2.342775571148209,-0.5670716703574843,-0.9503235933722504,-0.4339349209311885,1.527752580773344,-0.08054998668595434,-1.4049130684299154,-1.5664483954405641,0.1913586129837818,-2.402977650689316,-2.4156500595637316,-1.6106222208648489,0.8717326375891837,1.5301889877881603,-1.8036943913820742,-0.43826533926511224,-2.951350458922786,-2.4107084232917835,-1.1229498456634248,-0.28437359682857033,1.069006154829394,1.8009055855234095,0.9282687698444522,0.334308139875888,0.05664741598766343,1.8646628330878237,0.2927459749403,1.2997025906053365,2.5892029243143355,2.7225196350041725,-1.4736407884452078,1.8459327808661243,-0.7774762775161371,2.0565161739940274,0.28576869186657483,1.6580886382066595,2.6183016148506204,2.1347560881327783,2.0187097629689856,2.527677864536789,2.6975353457652815,2.4857796621397754,2.88776885589802,1.3527379549403555,2.378764540789255,-0.1310897641722383,1.4531340261348358,2.551035461880233,2.6742667271154077,0.9834443518329006,-1.2325867327502855,1.7978985545198283,-1.2540673452957847,-1.1822040544404102,-2.085823555927666,-1.1891397799160284,-0.38993669787666113,-2.3310513857933115,-2.1061252701001028,-1.0308860096348056,0.7607642304911164,2.022601372151833,-0.9659007322260902,0.7042150811391864,0.6302527250097336,1.6035540163090647,-1.7450773901726477,-1.2341472261223392,0.4816649002179573,0.008919768870633638,-2.1785433395440945,0.23488994596510537,-0.2005804508859514,-2.6393844323167994,-0.7874784500621947,2.8009331048837045,0.009423941851549458,-1.7765403808387463,-0.27143651785629747,2.8523562481988587,-0.7849718668018703,0.46231784260186976,-1.8196803177179768,-1.2859400729170891,-1.5222541591268093,-0.2707334622688455,-2.612219368900363,-1.0267416126619977,0.24022413392762837,-3.0159997951373168,-0.2684530230524734,0.08350414684494978,-1.6929332867814952,0.599826255370894,1.6251627170664078,2.533992511711036,0.9258515171611587,1.7096282966826848,-0.8571388801451852,0.8946028284922437,1.299427269179628,2.462265067875627,0.6654248395588682,-3.2231457781175465,-3.1987789060108325,0.5655093812110598,0.13080958686024638,-1.3830704932357363,-0.8307647004863276,2.251222171167195,-2.4430202545568744,-1.149843080746633,0.6090406959000536,2.5795769599170644,-1.602368724528111,-0.05375171841242585,0.8739607029676938,-2.1252467528618313,-2.192386765473257,-2.284998452655885,0.4259847270127482,-1.5034568731796152,-1.527844181375231,-3.1341105082669602,2.0377786492253906,0.5247296346431848,0.560990956410099,-0.24090886396539726,1.113381673159812,-2.444591836154931,-0.46503841212080027,-0.7202210026884877,0.5188180716054966,0.9005889755190063,-0.07703323570095716,-2.5138484904330083,2.446521623265056,-0.5424358877545179,-1.848532957949212,-0.018341379956948917,0.544173534356297,-1.3922843903684794,-1.1761959922471157,0.13510070472242783,-0.4806748707462489,-2.193062850313351,0.031750693356465326,-1.6896207033362751,-1.2524226239614626,0.3831320613281731,-0.41063741239176366,-3.1115468123786036,-2.603855913423363,-3.159397403283156,-3.1272715957169,-2.9602118888322804,-0.05465670269649272,2.647385883142485,-3.0982302869817384,-0.613423503496854,0.7509631990052108,0.43155898979022334,0.4801464462144181,-1.7955785757095253,0.5722105428345625,-1.624509430835846,-1.6462147189034224,-0.10776498625353159,-3.437741560672605,0.9675885549038435,-1.2150871186883803,2.530914735559215,1.185639275690499,2.8310041905522865,1.1507028638428194,-0.9946771622130991,-1.895027133382323,-1.0706060526831895,0.624243673515532,2.823278414282582,2.282225951355505,-2.502032426101298,2.8811831897544353,0.43210036012174813,2.380006184861702,-0.38506710237420316,1.960363022153815,-2.760078662639402,0.14609878422549294,-2.9080990896206225,-3.2376903629800355,-0.47182213349391466,-0.545737188158852,-2.683332748632118,-0.1549125188202679,-2.0929429375484,-0.30204248651903676,1.3220639072748375,-1.9878303392446408,-0.5979810857078397,-0.36218347482896046,-0.4878667093102835,-1.8757570883411465,0.5880977421675376,-1.800348175325215,-0.9258002684206906,-2.5774422556908445,0.6512052280376116,-0.9112540641067366,-2.289710708005142,-2.105345460065173,0.18007316618800062,-3.3209283477368086,-2.2058490850303523,-2.03455805749824,2.7830933603684507,-1.5587619095608134,-1.4679614231173521,3.2207017682693353,-1.5624134775755998,1.2838648993538437,0.31146897513892535,2.1100640009789604,2.576165157828299,-0.23817113837210596,2.830726341045411,-1.8216113316444493,2.2307489720655935,2.6059608529830154,0.24596061265532096,1.6515447719108065,2.912515396503787,0.619962147311634,-0.21536026241388018,3.240461465917582,-0.0689700799432696,1.5903840024847653,3.0946360656997416,0.5831731993587428,1.8213135842496948,1.6615815472823237,0.09668326740008523,2.9472331052605463,0.9081474345268249,-2.3275874426954863,0.6131345134962762,1.210000964258806,2.1560942319907404,1.7216674149259708,0.9091052311325841,2.9284473230250048,1.4815418539782583,0.9535520789048704,1.3781966155528675,0.9260655625016218,0.9606918328153717,0.6695216067938401,0.8122065101388835,1.2987202170827798,2.291547329776579,2.6558525162317936,0.06632807542708502,2.49306461316372,0.9541904873193823,1.1732691950912781,1.011375963435052,-2.793643256583049,-1.3034907462347423,2.138338700269136,1.8940802200802187,1.682846086339136,2.1446125147548134,-2.077782807208292,1.9036125854281565,0.3260389101477338,2.1486535824178583,1.0027861080248934]}},\"id\":\"de3c74eb-f8d5-4dbc-b868-cfd8e58d7482\",\"type\":\"ColumnDataSource\"},{\"attributes\":{\"fill_color\":{\"value\":\"#1f77b4\"},\"line_color\":{\"value\":\"#1f77b4\"},\"x\":{\"field\":\"x\"},\"y\":{\"field\":\"y\"}},\"id\":\"6f5d49d8-9b13-412a-bb8c-648070c2ff9e\",\"type\":\"Circle\"},{\"attributes\":{\"callback\":null},\"id\":\"126791a1-f23c-4a89-8eb7-51eba34d8609\",\"type\":\"DataRange1d\"},{\"attributes\":{\"plot\":{\"id\":\"f00d5045-1438-4f70-8d62-cda79eddd8d1\",\"subtype\":\"Figure\",\"type\":\"Plot\"},\"ticker\":{\"id\":\"540445a9-2464-4168-9d10-992ace185afe\",\"type\":\"BasicTicker\"}},\"id\":\"38026f99-444e-44a8-8920-4ea38c370376\",\"type\":\"Grid\"},{\"attributes\":{\"data_source\":{\"id\":\"de3c74eb-f8d5-4dbc-b868-cfd8e58d7482\",\"type\":\"ColumnDataSource\"},\"glyph\":{\"id\":\"6f5d49d8-9b13-412a-bb8c-648070c2ff9e\",\"type\":\"Circle\"},\"hover_glyph\":null,\"nonselection_glyph\":{\"id\":\"f343673a-43a0-46cb-a72b-9d4d41ad7fd6\",\"type\":\"Circle\"},\"selection_glyph\":null},\"id\":\"b05967b8-68eb-4aab-822f-c3769eb2cbee\",\"type\":\"GlyphRenderer\"},{\"attributes\":{\"plot\":null,\"text\":null},\"id\":\"4c475012-70b0-40ed-af2d-ec2eefb6e5cd\",\"type\":\"Title\"},{\"attributes\":{},\"id\":\"4c4c6097-9389-46cf-a3cb-2e99db26f190\",\"type\":\"BasicTickFormatter\"},{\"attributes\":{\"formatter\":{\"id\":\"5bc97f2b-79ef-4397-8242-40473d71326b\",\"type\":\"BasicTickFormatter\"},\"plot\":{\"id\":\"f00d5045-1438-4f70-8d62-cda79eddd8d1\",\"subtype\":\"Figure\",\"type\":\"Plot\"},\"ticker\":{\"id\":\"540445a9-2464-4168-9d10-992ace185afe\",\"type\":\"BasicTicker\"}},\"id\":\"9c1154af-3b75-43d1-b38f-67a9f8f402a2\",\"type\":\"LinearAxis\"},{\"attributes\":{\"overlay\":{\"id\":\"bfaf9558-d3ae-4fbf-9fe2-fd94948c3c9b\",\"type\":\"BoxAnnotation\"},\"plot\":{\"id\":\"f00d5045-1438-4f70-8d62-cda79eddd8d1\",\"subtype\":\"Figure\",\"type\":\"Plot\"}},\"id\":\"8ba2b019-8241-492d-ba3e-4306ac0e4e43\",\"type\":\"BoxZoomTool\"},{\"attributes\":{},\"id\":\"540445a9-2464-4168-9d10-992ace185afe\",\"type\":\"BasicTicker\"},{\"attributes\":{\"plot\":{\"id\":\"f00d5045-1438-4f70-8d62-cda79eddd8d1\",\"subtype\":\"Figure\",\"type\":\"Plot\"}},\"id\":\"b089be3a-4dd2-43fc-a1ef-05da4e7392a2\",\"type\":\"PanTool\"},{\"attributes\":{\"active_drag\":\"auto\",\"active_scroll\":\"auto\",\"active_tap\":\"auto\",\"tools\":[{\"id\":\"b089be3a-4dd2-43fc-a1ef-05da4e7392a2\",\"type\":\"PanTool\"},{\"id\":\"1f4422f9-ab1b-4a69-95b4-71f01600457f\",\"type\":\"WheelZoomTool\"},{\"id\":\"8ba2b019-8241-492d-ba3e-4306ac0e4e43\",\"type\":\"BoxZoomTool\"},{\"id\":\"9179915c-1bc4-4479-999c-3cf448daf069\",\"type\":\"SaveTool\"},{\"id\":\"cb73ac44-1f22-4a53-bd8e-37a0245b4704\",\"type\":\"ResetTool\"},{\"id\":\"73164f33-ade0-47a6-919a-1e5c6000e8b4\",\"type\":\"HelpTool\"}]},\"id\":\"233c11a4-00e8-4955-b730-80317e579f56\",\"type\":\"Toolbar\"},{\"attributes\":{\"plot\":{\"id\":\"f00d5045-1438-4f70-8d62-cda79eddd8d1\",\"subtype\":\"Figure\",\"type\":\"Plot\"}},\"id\":\"9179915c-1bc4-4479-999c-3cf448daf069\",\"type\":\"SaveTool\"},{\"attributes\":{\"plot\":{\"id\":\"f00d5045-1438-4f70-8d62-cda79eddd8d1\",\"subtype\":\"Figure\",\"type\":\"Plot\"}},\"id\":\"cb73ac44-1f22-4a53-bd8e-37a0245b4704\",\"type\":\"ResetTool\"},{\"attributes\":{\"callback\":null},\"id\":\"c357e811-20ca-40bc-abfd-3e660421a009\",\"type\":\"DataRange1d\"},{\"attributes\":{\"plot\":{\"id\":\"f00d5045-1438-4f70-8d62-cda79eddd8d1\",\"subtype\":\"Figure\",\"type\":\"Plot\"}},\"id\":\"73164f33-ade0-47a6-919a-1e5c6000e8b4\",\"type\":\"HelpTool\"},{\"attributes\":{\"formatter\":{\"id\":\"4c4c6097-9389-46cf-a3cb-2e99db26f190\",\"type\":\"BasicTickFormatter\"},\"plot\":{\"id\":\"f00d5045-1438-4f70-8d62-cda79eddd8d1\",\"subtype\":\"Figure\",\"type\":\"Plot\"},\"ticker\":{\"id\":\"15aef0da-e9a8-44cf-b120-413168c4d5a9\",\"type\":\"BasicTicker\"}},\"id\":\"451b8912-689f-4667-ae85-2510aa61d7f6\",\"type\":\"LinearAxis\"},{\"attributes\":{},\"id\":\"cef86d2e-e98b-4e6d-8210-0d4942d6b654\",\"type\":\"ToolEvents\"},{\"attributes\":{\"bottom_units\":\"screen\",\"fill_alpha\":{\"value\":0.5},\"fill_color\":{\"value\":\"lightgrey\"},\"left_units\":\"screen\",\"level\":\"overlay\",\"line_alpha\":{\"value\":1.0},\"line_color\":{\"value\":\"black\"},\"line_dash\":[4,4],\"line_width\":{\"value\":2},\"plot\":null,\"render_mode\":\"css\",\"right_units\":\"screen\",\"top_units\":\"screen\"},\"id\":\"bfaf9558-d3ae-4fbf-9fe2-fd94948c3c9b\",\"type\":\"BoxAnnotation\"},{\"attributes\":{\"dimension\":1,\"plot\":{\"id\":\"f00d5045-1438-4f70-8d62-cda79eddd8d1\",\"subtype\":\"Figure\",\"type\":\"Plot\"},\"ticker\":{\"id\":\"15aef0da-e9a8-44cf-b120-413168c4d5a9\",\"type\":\"BasicTicker\"}},\"id\":\"2514199d-1545-49e4-9b25-bad8f75aa285\",\"type\":\"Grid\"}],\"root_ids\":[\"f00d5045-1438-4f70-8d62-cda79eddd8d1\"]},\"title\":\"Bokeh Application\",\"version\":\"0.12.2\"}};\n",
       "            var render_items = [{\"docid\":\"64a49516-388f-436b-9573-1336d906b104\",\"elementid\":\"628cae31-6c20-492c-8539-308e51357b9d\",\"modelid\":\"f00d5045-1438-4f70-8d62-cda79eddd8d1\"}];\n",
       "            \n",
       "            Bokeh.embed.embed_items(docs_json, render_items);\n",
       "        });\n",
       "      },\n",
       "      function(Bokeh) {\n",
       "      }\n",
       "    ];\n",
       "  \n",
       "    function run_inline_js() {\n",
       "      \n",
       "      if ((window.Bokeh !== undefined) || (force === \"1\")) {\n",
       "        for (var i = 0; i < inline_js.length; i++) {\n",
       "          inline_js[i](window.Bokeh);\n",
       "        }if (force === \"1\") {\n",
       "          display_loaded();\n",
       "        }} else if (Date.now() < window._bokeh_timeout) {\n",
       "        setTimeout(run_inline_js, 100);\n",
       "      } else if (!window._bokeh_failed_load) {\n",
       "        console.log(\"Bokeh: BokehJS failed to load within specified timeout.\");\n",
       "        window._bokeh_failed_load = true;\n",
       "      } else if (!force) {\n",
       "        var cell = $(\"#628cae31-6c20-492c-8539-308e51357b9d\").parents('.cell').data().cell;\n",
       "        cell.output_area.append_execute_result(NB_LOAD_WARNING)\n",
       "      }\n",
       "  \n",
       "    }\n",
       "  \n",
       "    if (window._bokeh_is_loading === 0) {\n",
       "      console.log(\"Bokeh: BokehJS loaded, going straight to plotting\");\n",
       "      run_inline_js();\n",
       "    } else {\n",
       "      load_libs(js_urls, function() {\n",
       "        console.log(\"Bokeh: BokehJS plotting callback run at\", now());\n",
       "        run_inline_js();\n",
       "      });\n",
       "    }\n",
       "  }(this));\n",
       "</script>"
      ]
     },
     "metadata": {},
     "output_type": "display_data"
    }
   ],
   "source": [
    "p = figure()\n",
    "p.scatter(x=t[:,0], y=t[:,1])\n",
    "show(p)"
   ]
  }
 ],
 "metadata": {
  "kernelspec": {
   "display_name": "Python [default]",
   "language": "python",
   "name": "python3"
  },
  "language_info": {
   "codemirror_mode": {
    "name": "ipython",
    "version": 3
   },
   "file_extension": ".py",
   "mimetype": "text/x-python",
   "name": "python",
   "nbconvert_exporter": "python",
   "pygments_lexer": "ipython3",
   "version": "3.5.2"
  }
 },
 "nbformat": 4,
 "nbformat_minor": 1
}
